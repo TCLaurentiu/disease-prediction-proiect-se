{
 "cells": [
  {
   "cell_type": "code",
   "execution_count": 1,
   "metadata": {},
   "outputs": [],
   "source": [
    "import torch\n",
    "import torch.nn as nn\n",
    "\n",
    "import json\n",
    "\n",
    "import pandas as pd\n",
    "\n",
    "from tqdm import tqdm, trange\n",
    "\n",
    "from torch.utils.data import TensorDataset"
   ]
  },
  {
   "cell_type": "code",
   "execution_count": 2,
   "metadata": {},
   "outputs": [],
   "source": [
    "def read_json_file(file_path):\n",
    "  with open(file_path) as file:\n",
    "    data = file.read()\n",
    "    return json.loads(data)"
   ]
  },
  {
   "cell_type": "code",
   "execution_count": 3,
   "metadata": {},
   "outputs": [],
   "source": [
    "conditions_file = \"release_conditions.json\"\n",
    "evidences_file = \"release_evidences.json\"\n",
    "train_file= \"release_train_patients/release_train_patients.csv\"\n",
    "test_file = \"release_test_patients/release_test_patients.csv\"\n",
    "valid_file = \"release_validate_patients/release_validate_patients.csv\""
   ]
  },
  {
   "cell_type": "code",
   "execution_count": 4,
   "metadata": {},
   "outputs": [],
   "source": [
    "with open(\"clean_dataset/diseases.json\") as file:\n",
    "  disease_dict = json.loads(file.read())"
   ]
  },
  {
   "cell_type": "code",
   "execution_count": 5,
   "metadata": {},
   "outputs": [],
   "source": [
    "with open(\"clean_dataset/evidences.json\") as file:\n",
    "  evidence_dict = json.loads(file.read())"
   ]
  },
  {
   "cell_type": "code",
   "execution_count": 6,
   "metadata": {},
   "outputs": [],
   "source": [
    "df_train = pd.read_csv(train_file)\n",
    "df_test = pd.read_csv(test_file)\n",
    "df_valid = pd.read_csv(valid_file)"
   ]
  },
  {
   "cell_type": "code",
   "execution_count": 7,
   "metadata": {},
   "outputs": [],
   "source": [
    "def parse_evidence_string(evidence_string):\n",
    "  json_evidence = evidence_string.replace('\"', \"!\").replace(\"'\", '\"').replace(\"!\", \"'\")\n",
    "  return json.loads(json_evidence)"
   ]
  },
  {
   "cell_type": "code",
   "execution_count": 8,
   "metadata": {},
   "outputs": [],
   "source": [
    "def evidences_string_to_dict(evidences):\n",
    "  # swap \" and ' to turn the string into valid JSON\n",
    "  evidences = evidences.replace(\"'\", '&').replace('\"', \"'\").replace(\"&\", '\"')\n",
    "  return json.loads(evidences)"
   ]
  },
  {
   "cell_type": "code",
   "execution_count": 9,
   "metadata": {},
   "outputs": [],
   "source": [
    "def df_to_Tensors(df, evidence_dict, disease_dict):\n",
    "  size = len(df)\n",
    "  # we also take in age and sex as features, besides the symptoms\n",
    "  feature_count = len(evidence_dict)\n",
    "\n",
    "  # X_tensor[i][j] = 1 if patient i has symptom j\n",
    "  # for sex, 0 means male and 1 means female\n",
    "  # for age and categorical symptoms, X_tensor[i][j] is the number that\n",
    "  # represents the age/index of the value\n",
    "  # the last feature is the age, the feature before that is the sex\n",
    "  X_tensor = torch.zeros(size, feature_count)\n",
    "\n",
    "  # y_tensor[i][j] = 1 if patient i has disease j, and 0 otherwise\n",
    "  y_tensor = torch.zeros(size).type(torch.LongTensor)\n",
    "\n",
    "  for index, row in tqdm(enumerate(df.itertuples(index = False))):\n",
    "    age = row.AGE\n",
    "    evidences = row.EVIDENCES\n",
    "    sex = row.SEX\n",
    "    pathology = row.PATHOLOGY\n",
    "\n",
    "    evidence_list = evidences_string_to_dict(evidences)\n",
    "\n",
    "    for evidence in evidence_list:\n",
    "      if '_@_' in evidence:\n",
    "        evidence_name, evidence_value = evidence.split(\"_@_\")\n",
    "\n",
    "        # categorical symptom\n",
    "        if evidence_name in evidence_dict:\n",
    "          disease_index = evidence_dict[evidence_name][\"index\"]\n",
    "          value_index = evidence_dict[evidence_name][\"values\"][evidence_value][\"index\"]\n",
    "          X_tensor[index][disease_index] = value_index\n",
    "        \n",
    "        # multi symptom\n",
    "        if evidence_name not in evidence_dict:\n",
    "          disease_index = evidence_dict[evidence_name + \"%\" + evidence_value][\"index\"]\n",
    "          X_tensor[index][disease_index] = 1\n",
    "      \n",
    "      else:\n",
    "        # binary symptom\n",
    "        X_tensor[index][evidence_dict[evidence][\"index\"]] = 1\n",
    "\n",
    "      y_tensor[index] = disease_dict[pathology]\n",
    "\n",
    "  return X_tensor, y_tensor"
   ]
  },
  {
   "cell_type": "code",
   "execution_count": 10,
   "metadata": {},
   "outputs": [
    {
     "name": "stderr",
     "output_type": "stream",
     "text": [
      "1025602it [03:57, 4310.43it/s]\n"
     ]
    }
   ],
   "source": [
    "X_train, y_train = df_to_Tensors(df_train, evidence_dict, disease_dict)"
   ]
  },
  {
   "cell_type": "code",
   "execution_count": 11,
   "metadata": {},
   "outputs": [
    {
     "name": "stderr",
     "output_type": "stream",
     "text": [
      "0it [00:00, ?it/s]"
     ]
    },
    {
     "name": "stderr",
     "output_type": "stream",
     "text": [
      "134529it [00:31, 4267.09it/s]\n"
     ]
    }
   ],
   "source": [
    "X_test, y_test = df_to_Tensors(df_test, evidence_dict, disease_dict)"
   ]
  },
  {
   "cell_type": "code",
   "execution_count": 12,
   "metadata": {},
   "outputs": [
    {
     "name": "stderr",
     "output_type": "stream",
     "text": [
      "0it [00:00, ?it/s]"
     ]
    },
    {
     "name": "stderr",
     "output_type": "stream",
     "text": [
      "132448it [00:30, 4276.89it/s]\n"
     ]
    }
   ],
   "source": [
    "X_valid, y_valid = df_to_Tensors(df_valid, evidence_dict, disease_dict)"
   ]
  },
  {
   "cell_type": "code",
   "execution_count": null,
   "metadata": {},
   "outputs": [],
   "source": [
    "torch.save(X_train, \"clean_dataset/X_train.pt\")\n",
    "torch.save(y_train, \"clean_dataset/y_train.pt\")"
   ]
  },
  {
   "cell_type": "code",
   "execution_count": null,
   "metadata": {},
   "outputs": [],
   "source": [
    "torch.save(X_test, \"clean_dataset/X_test.pt\")\n",
    "torch.save(y_test, \"clean_dataset/y_test.pt\")"
   ]
  },
  {
   "cell_type": "code",
   "execution_count": null,
   "metadata": {},
   "outputs": [],
   "source": [
    "torch.save(X_valid, \"clean_dataset/X_valid.pt\")\n",
    "torch.save(y_valid, \"clean_dataset/y_valid.pt\")"
   ]
  },
  {
   "cell_type": "code",
   "execution_count": null,
   "metadata": {},
   "outputs": [],
   "source": []
  }
 ],
 "metadata": {
  "kernelspec": {
   "display_name": "lv",
   "language": "python",
   "name": "python3"
  },
  "language_info": {
   "codemirror_mode": {
    "name": "ipython",
    "version": 3
   },
   "file_extension": ".py",
   "mimetype": "text/x-python",
   "name": "python",
   "nbconvert_exporter": "python",
   "pygments_lexer": "ipython3",
   "version": "3.10.11"
  }
 },
 "nbformat": 4,
 "nbformat_minor": 2
}
