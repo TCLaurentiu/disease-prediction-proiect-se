{
 "cells": [
  {
   "cell_type": "code",
   "execution_count": 1,
   "metadata": {},
   "outputs": [],
   "source": [
    "import torch\n",
    "import torch.nn as nn\n",
    "from torch.utils.data import TensorDataset, DataLoader\n",
    "\n",
    "from tqdm import tqdm, trange\n",
    "\n",
    "import torch.nn.functional as F\n",
    "\n",
    "import json\n",
    "\n",
    "import random\n",
    "\n",
    "from time import sleep"
   ]
  },
  {
   "cell_type": "code",
   "execution_count": 2,
   "metadata": {},
   "outputs": [],
   "source": [
    "X_train, y_train = torch.load(\"clean_dataset/X_train.pt\"), torch.load(\"clean_dataset/y_train.pt\")\n",
    "X_test, y_test   = torch.load(\"clean_dataset/X_test.pt\"),  torch.load(\"clean_dataset/y_test.pt\")\n",
    "X_valid, y_valid = torch.load(\"clean_dataset/X_valid.pt\"), torch.load(\"clean_dataset/y_valid.pt\")"
   ]
  },
  {
   "cell_type": "code",
   "execution_count": 3,
   "metadata": {},
   "outputs": [],
   "source": [
    "with open(\"clean_dataset/diseases.json\") as file:\n",
    "  diseases = json.loads(file.read())"
   ]
  },
  {
   "cell_type": "code",
   "execution_count": 4,
   "metadata": {},
   "outputs": [],
   "source": [
    "train_dataset = TensorDataset(X_train, y_train)\n",
    "test_dataset  = TensorDataset(X_test, y_test)\n",
    "valid_dataset = TensorDataset(X_valid, y_valid)"
   ]
  },
  {
   "cell_type": "code",
   "execution_count": 5,
   "metadata": {},
   "outputs": [],
   "source": [
    "dataset = torch.utils.data.ConcatDataset([train_dataset, test_dataset, valid_dataset])"
   ]
  },
  {
   "cell_type": "code",
   "execution_count": 6,
   "metadata": {},
   "outputs": [],
   "source": [
    "train_dataset, test_dataset, valid_dataset = torch.utils.data.random_split(dataset, [0.8, 0.1, 0.1])"
   ]
  },
  {
   "cell_type": "code",
   "execution_count": 7,
   "metadata": {},
   "outputs": [],
   "source": [
    "batch_size = 256\n",
    "class_count = len(diseases)\n",
    "feature_count = len(train_dataset[0][0])"
   ]
  },
  {
   "cell_type": "code",
   "execution_count": 8,
   "metadata": {},
   "outputs": [
    {
     "data": {
      "text/plain": [
       "torch.Size([1025602, 894])"
      ]
     },
     "execution_count": 8,
     "metadata": {},
     "output_type": "execute_result"
    }
   ],
   "source": [
    "X_train.shape"
   ]
  },
  {
   "cell_type": "code",
   "execution_count": 9,
   "metadata": {},
   "outputs": [
    {
     "data": {
      "text/plain": [
       "(894, 49)"
      ]
     },
     "execution_count": 9,
     "metadata": {},
     "output_type": "execute_result"
    }
   ],
   "source": [
    "feature_count, class_count"
   ]
  },
  {
   "cell_type": "code",
   "execution_count": 10,
   "metadata": {},
   "outputs": [],
   "source": [
    "train_loader = torch.utils.data.DataLoader(train_dataset, batch_size=batch_size, shuffle=True)\n",
    "test_loader = torch.utils.data.DataLoader(test_dataset, batch_size=batch_size)\n",
    "valid_loader = torch.utils.data.DataLoader(valid_dataset, batch_size=batch_size)"
   ]
  },
  {
   "cell_type": "code",
   "execution_count": 11,
   "metadata": {},
   "outputs": [],
   "source": [
    "class ResBlock(nn.Module):\n",
    "  def __init__(self, in_features):\n",
    "    super().__init__()\n",
    "    self.in_features = in_features\n",
    "    self.net = nn.Sequential(\n",
    "      nn.Linear(in_features, in_features),\n",
    "      nn.BatchNorm1d(in_features),\n",
    "      nn.ReLU(),\n",
    "      nn.Dropout(0.3),\n",
    "      nn.Linear(in_features, in_features),\n",
    "      nn.BatchNorm1d(in_features),\n",
    "      nn.ReLU(),\n",
    "      nn.Dropout(0.3),\n",
    "      nn.Linear(in_features, in_features),\n",
    "      nn.BatchNorm1d(in_features),\n",
    "      nn.ReLU(),\n",
    "      nn.Dropout(0.3),\n",
    "      nn.Linear(in_features, in_features),\n",
    "      nn.BatchNorm1d(in_features),\n",
    "      nn.ReLU(),\n",
    "      nn.Dropout(0.3)\n",
    "    )\n",
    "  \n",
    "  def forward(self, x):\n",
    "    return x + self.net(x)"
   ]
  },
  {
   "cell_type": "code",
   "execution_count": 12,
   "metadata": {},
   "outputs": [],
   "source": [
    "device = \"cuda\" if torch.cuda.is_available() else \"cpu\""
   ]
  },
  {
   "cell_type": "code",
   "execution_count": 13,
   "metadata": {},
   "outputs": [],
   "source": [
    "model = nn.Sequential(\n",
    "  nn.Linear(feature_count, feature_count // 2),\n",
    "  nn.ReLU(),\n",
    "  ResBlock(feature_count // 2),\n",
    "  nn.Linear(feature_count // 2, feature_count // 4),\n",
    "  nn.ReLU(),\n",
    "  ResBlock(feature_count // 4),\n",
    "  nn.Linear(feature_count // 4, feature_count // 8),\n",
    "  nn.ReLU(),\n",
    "  ResBlock(feature_count // 8),\n",
    "  nn.Linear(feature_count // 8, class_count),\n",
    "  nn.ReLU(),\n",
    "  ResBlock(class_count),\n",
    "  nn.Softmax()\n",
    "  )\n"
   ]
  },
  {
   "cell_type": "code",
   "execution_count": 14,
   "metadata": {},
   "outputs": [
    {
     "data": {
      "text/plain": [
       "Sequential(\n",
       "  (0): Linear(in_features=894, out_features=447, bias=True)\n",
       "  (1): ReLU()\n",
       "  (2): ResBlock(\n",
       "    (net): Sequential(\n",
       "      (0): Linear(in_features=447, out_features=447, bias=True)\n",
       "      (1): BatchNorm1d(447, eps=1e-05, momentum=0.1, affine=True, track_running_stats=True)\n",
       "      (2): ReLU()\n",
       "      (3): Dropout(p=0.3, inplace=False)\n",
       "      (4): Linear(in_features=447, out_features=447, bias=True)\n",
       "      (5): BatchNorm1d(447, eps=1e-05, momentum=0.1, affine=True, track_running_stats=True)\n",
       "      (6): ReLU()\n",
       "      (7): Dropout(p=0.3, inplace=False)\n",
       "      (8): Linear(in_features=447, out_features=447, bias=True)\n",
       "      (9): BatchNorm1d(447, eps=1e-05, momentum=0.1, affine=True, track_running_stats=True)\n",
       "      (10): ReLU()\n",
       "      (11): Dropout(p=0.3, inplace=False)\n",
       "      (12): Linear(in_features=447, out_features=447, bias=True)\n",
       "      (13): BatchNorm1d(447, eps=1e-05, momentum=0.1, affine=True, track_running_stats=True)\n",
       "      (14): ReLU()\n",
       "      (15): Dropout(p=0.3, inplace=False)\n",
       "    )\n",
       "  )\n",
       "  (3): Linear(in_features=447, out_features=223, bias=True)\n",
       "  (4): ReLU()\n",
       "  (5): ResBlock(\n",
       "    (net): Sequential(\n",
       "      (0): Linear(in_features=223, out_features=223, bias=True)\n",
       "      (1): BatchNorm1d(223, eps=1e-05, momentum=0.1, affine=True, track_running_stats=True)\n",
       "      (2): ReLU()\n",
       "      (3): Dropout(p=0.3, inplace=False)\n",
       "      (4): Linear(in_features=223, out_features=223, bias=True)\n",
       "      (5): BatchNorm1d(223, eps=1e-05, momentum=0.1, affine=True, track_running_stats=True)\n",
       "      (6): ReLU()\n",
       "      (7): Dropout(p=0.3, inplace=False)\n",
       "      (8): Linear(in_features=223, out_features=223, bias=True)\n",
       "      (9): BatchNorm1d(223, eps=1e-05, momentum=0.1, affine=True, track_running_stats=True)\n",
       "      (10): ReLU()\n",
       "      (11): Dropout(p=0.3, inplace=False)\n",
       "      (12): Linear(in_features=223, out_features=223, bias=True)\n",
       "      (13): BatchNorm1d(223, eps=1e-05, momentum=0.1, affine=True, track_running_stats=True)\n",
       "      (14): ReLU()\n",
       "      (15): Dropout(p=0.3, inplace=False)\n",
       "    )\n",
       "  )\n",
       "  (6): Linear(in_features=223, out_features=111, bias=True)\n",
       "  (7): ReLU()\n",
       "  (8): ResBlock(\n",
       "    (net): Sequential(\n",
       "      (0): Linear(in_features=111, out_features=111, bias=True)\n",
       "      (1): BatchNorm1d(111, eps=1e-05, momentum=0.1, affine=True, track_running_stats=True)\n",
       "      (2): ReLU()\n",
       "      (3): Dropout(p=0.3, inplace=False)\n",
       "      (4): Linear(in_features=111, out_features=111, bias=True)\n",
       "      (5): BatchNorm1d(111, eps=1e-05, momentum=0.1, affine=True, track_running_stats=True)\n",
       "      (6): ReLU()\n",
       "      (7): Dropout(p=0.3, inplace=False)\n",
       "      (8): Linear(in_features=111, out_features=111, bias=True)\n",
       "      (9): BatchNorm1d(111, eps=1e-05, momentum=0.1, affine=True, track_running_stats=True)\n",
       "      (10): ReLU()\n",
       "      (11): Dropout(p=0.3, inplace=False)\n",
       "      (12): Linear(in_features=111, out_features=111, bias=True)\n",
       "      (13): BatchNorm1d(111, eps=1e-05, momentum=0.1, affine=True, track_running_stats=True)\n",
       "      (14): ReLU()\n",
       "      (15): Dropout(p=0.3, inplace=False)\n",
       "    )\n",
       "  )\n",
       "  (9): Linear(in_features=111, out_features=49, bias=True)\n",
       "  (10): ReLU()\n",
       "  (11): ResBlock(\n",
       "    (net): Sequential(\n",
       "      (0): Linear(in_features=49, out_features=49, bias=True)\n",
       "      (1): BatchNorm1d(49, eps=1e-05, momentum=0.1, affine=True, track_running_stats=True)\n",
       "      (2): ReLU()\n",
       "      (3): Dropout(p=0.3, inplace=False)\n",
       "      (4): Linear(in_features=49, out_features=49, bias=True)\n",
       "      (5): BatchNorm1d(49, eps=1e-05, momentum=0.1, affine=True, track_running_stats=True)\n",
       "      (6): ReLU()\n",
       "      (7): Dropout(p=0.3, inplace=False)\n",
       "      (8): Linear(in_features=49, out_features=49, bias=True)\n",
       "      (9): BatchNorm1d(49, eps=1e-05, momentum=0.1, affine=True, track_running_stats=True)\n",
       "      (10): ReLU()\n",
       "      (11): Dropout(p=0.3, inplace=False)\n",
       "      (12): Linear(in_features=49, out_features=49, bias=True)\n",
       "      (13): BatchNorm1d(49, eps=1e-05, momentum=0.1, affine=True, track_running_stats=True)\n",
       "      (14): ReLU()\n",
       "      (15): Dropout(p=0.3, inplace=False)\n",
       "    )\n",
       "  )\n",
       "  (12): Softmax(dim=None)\n",
       ")"
      ]
     },
     "execution_count": 14,
     "metadata": {},
     "output_type": "execute_result"
    }
   ],
   "source": [
    "model.to(device)"
   ]
  },
  {
   "cell_type": "code",
   "execution_count": 15,
   "metadata": {},
   "outputs": [],
   "source": [
    "def count_parameters(model):\n",
    "    return sum(p.numel() for p in model.parameters() if p.requires_grad)"
   ]
  },
  {
   "cell_type": "code",
   "execution_count": 16,
   "metadata": {},
   "outputs": [
    {
     "data": {
      "text/plain": [
       "1597321"
      ]
     },
     "execution_count": 16,
     "metadata": {},
     "output_type": "execute_result"
    }
   ],
   "source": [
    "count_parameters(model)"
   ]
  },
  {
   "cell_type": "code",
   "execution_count": 17,
   "metadata": {},
   "outputs": [],
   "source": [
    "def init_weights(m):\n",
    "    if isinstance(m, nn.Linear):\n",
    "        torch.nn.init.xavier_uniform(m.weight)\n",
    "        m.bias.data.fill_(0.01)"
   ]
  },
  {
   "cell_type": "code",
   "execution_count": 18,
   "metadata": {},
   "outputs": [
    {
     "name": "stderr",
     "output_type": "stream",
     "text": [
      "C:\\Users\\Claudiu\\AppData\\Local\\Temp\\ipykernel_2156\\239054705.py:3: UserWarning: nn.init.xavier_uniform is now deprecated in favor of nn.init.xavier_uniform_.\n",
      "  torch.nn.init.xavier_uniform(m.weight)\n"
     ]
    },
    {
     "data": {
      "text/plain": [
       "Sequential(\n",
       "  (0): Linear(in_features=894, out_features=447, bias=True)\n",
       "  (1): ReLU()\n",
       "  (2): ResBlock(\n",
       "    (net): Sequential(\n",
       "      (0): Linear(in_features=447, out_features=447, bias=True)\n",
       "      (1): BatchNorm1d(447, eps=1e-05, momentum=0.1, affine=True, track_running_stats=True)\n",
       "      (2): ReLU()\n",
       "      (3): Dropout(p=0.3, inplace=False)\n",
       "      (4): Linear(in_features=447, out_features=447, bias=True)\n",
       "      (5): BatchNorm1d(447, eps=1e-05, momentum=0.1, affine=True, track_running_stats=True)\n",
       "      (6): ReLU()\n",
       "      (7): Dropout(p=0.3, inplace=False)\n",
       "      (8): Linear(in_features=447, out_features=447, bias=True)\n",
       "      (9): BatchNorm1d(447, eps=1e-05, momentum=0.1, affine=True, track_running_stats=True)\n",
       "      (10): ReLU()\n",
       "      (11): Dropout(p=0.3, inplace=False)\n",
       "      (12): Linear(in_features=447, out_features=447, bias=True)\n",
       "      (13): BatchNorm1d(447, eps=1e-05, momentum=0.1, affine=True, track_running_stats=True)\n",
       "      (14): ReLU()\n",
       "      (15): Dropout(p=0.3, inplace=False)\n",
       "    )\n",
       "  )\n",
       "  (3): Linear(in_features=447, out_features=223, bias=True)\n",
       "  (4): ReLU()\n",
       "  (5): ResBlock(\n",
       "    (net): Sequential(\n",
       "      (0): Linear(in_features=223, out_features=223, bias=True)\n",
       "      (1): BatchNorm1d(223, eps=1e-05, momentum=0.1, affine=True, track_running_stats=True)\n",
       "      (2): ReLU()\n",
       "      (3): Dropout(p=0.3, inplace=False)\n",
       "      (4): Linear(in_features=223, out_features=223, bias=True)\n",
       "      (5): BatchNorm1d(223, eps=1e-05, momentum=0.1, affine=True, track_running_stats=True)\n",
       "      (6): ReLU()\n",
       "      (7): Dropout(p=0.3, inplace=False)\n",
       "      (8): Linear(in_features=223, out_features=223, bias=True)\n",
       "      (9): BatchNorm1d(223, eps=1e-05, momentum=0.1, affine=True, track_running_stats=True)\n",
       "      (10): ReLU()\n",
       "      (11): Dropout(p=0.3, inplace=False)\n",
       "      (12): Linear(in_features=223, out_features=223, bias=True)\n",
       "      (13): BatchNorm1d(223, eps=1e-05, momentum=0.1, affine=True, track_running_stats=True)\n",
       "      (14): ReLU()\n",
       "      (15): Dropout(p=0.3, inplace=False)\n",
       "    )\n",
       "  )\n",
       "  (6): Linear(in_features=223, out_features=111, bias=True)\n",
       "  (7): ReLU()\n",
       "  (8): ResBlock(\n",
       "    (net): Sequential(\n",
       "      (0): Linear(in_features=111, out_features=111, bias=True)\n",
       "      (1): BatchNorm1d(111, eps=1e-05, momentum=0.1, affine=True, track_running_stats=True)\n",
       "      (2): ReLU()\n",
       "      (3): Dropout(p=0.3, inplace=False)\n",
       "      (4): Linear(in_features=111, out_features=111, bias=True)\n",
       "      (5): BatchNorm1d(111, eps=1e-05, momentum=0.1, affine=True, track_running_stats=True)\n",
       "      (6): ReLU()\n",
       "      (7): Dropout(p=0.3, inplace=False)\n",
       "      (8): Linear(in_features=111, out_features=111, bias=True)\n",
       "      (9): BatchNorm1d(111, eps=1e-05, momentum=0.1, affine=True, track_running_stats=True)\n",
       "      (10): ReLU()\n",
       "      (11): Dropout(p=0.3, inplace=False)\n",
       "      (12): Linear(in_features=111, out_features=111, bias=True)\n",
       "      (13): BatchNorm1d(111, eps=1e-05, momentum=0.1, affine=True, track_running_stats=True)\n",
       "      (14): ReLU()\n",
       "      (15): Dropout(p=0.3, inplace=False)\n",
       "    )\n",
       "  )\n",
       "  (9): Linear(in_features=111, out_features=49, bias=True)\n",
       "  (10): ReLU()\n",
       "  (11): ResBlock(\n",
       "    (net): Sequential(\n",
       "      (0): Linear(in_features=49, out_features=49, bias=True)\n",
       "      (1): BatchNorm1d(49, eps=1e-05, momentum=0.1, affine=True, track_running_stats=True)\n",
       "      (2): ReLU()\n",
       "      (3): Dropout(p=0.3, inplace=False)\n",
       "      (4): Linear(in_features=49, out_features=49, bias=True)\n",
       "      (5): BatchNorm1d(49, eps=1e-05, momentum=0.1, affine=True, track_running_stats=True)\n",
       "      (6): ReLU()\n",
       "      (7): Dropout(p=0.3, inplace=False)\n",
       "      (8): Linear(in_features=49, out_features=49, bias=True)\n",
       "      (9): BatchNorm1d(49, eps=1e-05, momentum=0.1, affine=True, track_running_stats=True)\n",
       "      (10): ReLU()\n",
       "      (11): Dropout(p=0.3, inplace=False)\n",
       "      (12): Linear(in_features=49, out_features=49, bias=True)\n",
       "      (13): BatchNorm1d(49, eps=1e-05, momentum=0.1, affine=True, track_running_stats=True)\n",
       "      (14): ReLU()\n",
       "      (15): Dropout(p=0.3, inplace=False)\n",
       "    )\n",
       "  )\n",
       "  (12): Softmax(dim=None)\n",
       ")"
      ]
     },
     "execution_count": 18,
     "metadata": {},
     "output_type": "execute_result"
    }
   ],
   "source": [
    "model.apply(init_weights)"
   ]
  },
  {
   "cell_type": "code",
   "execution_count": 19,
   "metadata": {},
   "outputs": [],
   "source": [
    "optimizer = torch.optim.SGD(model.parameters(), lr = 0.01)"
   ]
  },
  {
   "cell_type": "code",
   "execution_count": 20,
   "metadata": {},
   "outputs": [],
   "source": [
    "loss_function = torch.nn.CrossEntropyLoss()"
   ]
  },
  {
   "cell_type": "code",
   "execution_count": 21,
   "metadata": {},
   "outputs": [],
   "source": [
    "epochs = 1000\n",
    "symptom_dropping_chance = 0.1"
   ]
  },
  {
   "cell_type": "code",
   "execution_count": 22,
   "metadata": {},
   "outputs": [
    {
     "data": {
      "text/plain": [
       "Sequential(\n",
       "  (0): Linear(in_features=894, out_features=447, bias=True)\n",
       "  (1): ReLU()\n",
       "  (2): ResBlock(\n",
       "    (net): Sequential(\n",
       "      (0): Linear(in_features=447, out_features=447, bias=True)\n",
       "      (1): BatchNorm1d(447, eps=1e-05, momentum=0.1, affine=True, track_running_stats=True)\n",
       "      (2): ReLU()\n",
       "      (3): Dropout(p=0.3, inplace=False)\n",
       "      (4): Linear(in_features=447, out_features=447, bias=True)\n",
       "      (5): BatchNorm1d(447, eps=1e-05, momentum=0.1, affine=True, track_running_stats=True)\n",
       "      (6): ReLU()\n",
       "      (7): Dropout(p=0.3, inplace=False)\n",
       "      (8): Linear(in_features=447, out_features=447, bias=True)\n",
       "      (9): BatchNorm1d(447, eps=1e-05, momentum=0.1, affine=True, track_running_stats=True)\n",
       "      (10): ReLU()\n",
       "      (11): Dropout(p=0.3, inplace=False)\n",
       "      (12): Linear(in_features=447, out_features=447, bias=True)\n",
       "      (13): BatchNorm1d(447, eps=1e-05, momentum=0.1, affine=True, track_running_stats=True)\n",
       "      (14): ReLU()\n",
       "      (15): Dropout(p=0.3, inplace=False)\n",
       "    )\n",
       "  )\n",
       "  (3): Linear(in_features=447, out_features=223, bias=True)\n",
       "  (4): ReLU()\n",
       "  (5): ResBlock(\n",
       "    (net): Sequential(\n",
       "      (0): Linear(in_features=223, out_features=223, bias=True)\n",
       "      (1): BatchNorm1d(223, eps=1e-05, momentum=0.1, affine=True, track_running_stats=True)\n",
       "      (2): ReLU()\n",
       "      (3): Dropout(p=0.3, inplace=False)\n",
       "      (4): Linear(in_features=223, out_features=223, bias=True)\n",
       "      (5): BatchNorm1d(223, eps=1e-05, momentum=0.1, affine=True, track_running_stats=True)\n",
       "      (6): ReLU()\n",
       "      (7): Dropout(p=0.3, inplace=False)\n",
       "      (8): Linear(in_features=223, out_features=223, bias=True)\n",
       "      (9): BatchNorm1d(223, eps=1e-05, momentum=0.1, affine=True, track_running_stats=True)\n",
       "      (10): ReLU()\n",
       "      (11): Dropout(p=0.3, inplace=False)\n",
       "      (12): Linear(in_features=223, out_features=223, bias=True)\n",
       "      (13): BatchNorm1d(223, eps=1e-05, momentum=0.1, affine=True, track_running_stats=True)\n",
       "      (14): ReLU()\n",
       "      (15): Dropout(p=0.3, inplace=False)\n",
       "    )\n",
       "  )\n",
       "  (6): Linear(in_features=223, out_features=111, bias=True)\n",
       "  (7): ReLU()\n",
       "  (8): ResBlock(\n",
       "    (net): Sequential(\n",
       "      (0): Linear(in_features=111, out_features=111, bias=True)\n",
       "      (1): BatchNorm1d(111, eps=1e-05, momentum=0.1, affine=True, track_running_stats=True)\n",
       "      (2): ReLU()\n",
       "      (3): Dropout(p=0.3, inplace=False)\n",
       "      (4): Linear(in_features=111, out_features=111, bias=True)\n",
       "      (5): BatchNorm1d(111, eps=1e-05, momentum=0.1, affine=True, track_running_stats=True)\n",
       "      (6): ReLU()\n",
       "      (7): Dropout(p=0.3, inplace=False)\n",
       "      (8): Linear(in_features=111, out_features=111, bias=True)\n",
       "      (9): BatchNorm1d(111, eps=1e-05, momentum=0.1, affine=True, track_running_stats=True)\n",
       "      (10): ReLU()\n",
       "      (11): Dropout(p=0.3, inplace=False)\n",
       "      (12): Linear(in_features=111, out_features=111, bias=True)\n",
       "      (13): BatchNorm1d(111, eps=1e-05, momentum=0.1, affine=True, track_running_stats=True)\n",
       "      (14): ReLU()\n",
       "      (15): Dropout(p=0.3, inplace=False)\n",
       "    )\n",
       "  )\n",
       "  (9): Linear(in_features=111, out_features=49, bias=True)\n",
       "  (10): ReLU()\n",
       "  (11): ResBlock(\n",
       "    (net): Sequential(\n",
       "      (0): Linear(in_features=49, out_features=49, bias=True)\n",
       "      (1): BatchNorm1d(49, eps=1e-05, momentum=0.1, affine=True, track_running_stats=True)\n",
       "      (2): ReLU()\n",
       "      (3): Dropout(p=0.3, inplace=False)\n",
       "      (4): Linear(in_features=49, out_features=49, bias=True)\n",
       "      (5): BatchNorm1d(49, eps=1e-05, momentum=0.1, affine=True, track_running_stats=True)\n",
       "      (6): ReLU()\n",
       "      (7): Dropout(p=0.3, inplace=False)\n",
       "      (8): Linear(in_features=49, out_features=49, bias=True)\n",
       "      (9): BatchNorm1d(49, eps=1e-05, momentum=0.1, affine=True, track_running_stats=True)\n",
       "      (10): ReLU()\n",
       "      (11): Dropout(p=0.3, inplace=False)\n",
       "      (12): Linear(in_features=49, out_features=49, bias=True)\n",
       "      (13): BatchNorm1d(49, eps=1e-05, momentum=0.1, affine=True, track_running_stats=True)\n",
       "      (14): ReLU()\n",
       "      (15): Dropout(p=0.3, inplace=False)\n",
       "    )\n",
       "  )\n",
       "  (12): Softmax(dim=None)\n",
       ")"
      ]
     },
     "execution_count": 22,
     "metadata": {},
     "output_type": "execute_result"
    }
   ],
   "source": [
    "model.train()"
   ]
  },
  {
   "cell_type": "code",
   "execution_count": null,
   "metadata": {},
   "outputs": [],
   "source": [
    "pbar = trange(epochs)\n",
    "\n",
    "for epoch in pbar:\n",
    "  correct = 0\n",
    "  total_train = 0\n",
    "  for X, y in train_loader:\n",
    "    optimizer.zero_grad()\n",
    "    X, y = X.to(device), y.to(device)\n",
    "\n",
    "    r = random.uniform(0, 1)\n",
    "    if r < symptom_dropping_chance:\n",
    "      lucky_batch = random.randrange(batch_size)\n",
    "      if lucky_batch < len(X):\n",
    "        one_indexes = (X[lucky_batch] == 1).nonzero()\n",
    "        lucky_index = random.randrange(one_indexes.numel())\n",
    "      \n",
    "        X[lucky_batch][one_indexes[lucky_index]] = 0.0\n",
    "\n",
    "    y_hat = model(X)\n",
    "    loss = loss_function(y_hat, y)\n",
    "    loss.backward()\n",
    "    total_train += len(X)\n",
    "    optimizer.step()\n",
    "    correct += torch.sum(torch.argmax(y_hat, dim = 1) == y)\n",
    "  if True:\n",
    "    model.eval()\n",
    "    correct_valid = 0\n",
    "    total_valid = 0\n",
    "    for X_valid, y_valid in valid_loader:\n",
    "      X_valid, y_valid = X_valid.to(device), y_valid.to(device)\n",
    "      y_hat = model(X_valid)\n",
    "      correct_valid += torch.sum(torch.argmax(y_hat, dim = 1) == y_valid)\n",
    "      total_valid += len(X_valid)\n",
    "    latest_valid_acc = correct_valid / total_valid\n",
    "    model.train()\n",
    "\n",
    "  pbar.set_description(f'Accuracy {correct/total_train}; Validation accuracy {latest_valid_acc}')"
   ]
  },
  {
   "cell_type": "code",
   "execution_count": 24,
   "metadata": {},
   "outputs": [],
   "source": [
    "torch.save(model.state_dict(), \"model.pt\")"
   ]
  },
  {
   "cell_type": "code",
   "execution_count": 25,
   "metadata": {},
   "outputs": [
    {
     "name": "stderr",
     "output_type": "stream",
     "text": [
      "100%|██████████| 505/505 [00:05<00:00, 96.67it/s] \n"
     ]
    }
   ],
   "source": [
    "model.eval()\n",
    "correct_test = 0\n",
    "total_test = 0\n",
    "for X_test, y_test in tqdm(test_loader):\n",
    "  X_test, y_test = X_test.to(device), y_test.to(device)\n",
    "  y_hat = model(X_test)\n",
    "  correct_test += torch.sum(torch.argmax(y_hat, dim = 1) == y_test)\n",
    "  total_test += len(X_test)\n",
    "latest_test_acc = correct_test / total_test"
   ]
  },
  {
   "cell_type": "code",
   "execution_count": 26,
   "metadata": {},
   "outputs": [
    {
     "data": {
      "text/plain": [
       "tensor(0.9593, device='cuda:0')"
      ]
     },
     "execution_count": 26,
     "metadata": {},
     "output_type": "execute_result"
    }
   ],
   "source": [
    "latest_test_acc"
   ]
  }
 ],
 "metadata": {
  "kernelspec": {
   "display_name": "Python 3.10.11 ('lv')",
   "language": "python",
   "name": "python3"
  },
  "language_info": {
   "codemirror_mode": {
    "name": "ipython",
    "version": 3
   },
   "file_extension": ".py",
   "mimetype": "text/x-python",
   "name": "python",
   "nbconvert_exporter": "python",
   "pygments_lexer": "ipython3",
   "version": "3.10.11"
  },
  "orig_nbformat": 4,
  "vscode": {
   "interpreter": {
    "hash": "48356fca9c36f057f2d259c6a18ff04a3ef8857bc2f99a9a5973dc0c4d1527b3"
   }
  }
 },
 "nbformat": 4,
 "nbformat_minor": 2
}
