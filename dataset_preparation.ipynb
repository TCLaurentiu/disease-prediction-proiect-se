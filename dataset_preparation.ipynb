{
 "cells": [
  {
   "cell_type": "code",
   "execution_count": 1,
   "metadata": {},
   "outputs": [],
   "source": [
    "import torch\n",
    "import torch.nn as nn\n",
    "\n",
    "import json\n",
    "\n",
    "import pandas as pd\n",
    "\n",
    "from tqdm import tqdm, trange\n",
    "\n",
    "from torch.utils.data import TensorDataset"
   ]
  },
  {
   "cell_type": "markdown",
   "metadata": {},
   "source": [
    "The file \"release_conditions.json\" is a json-dumped dictionary that contains all the disease that a patient can suffer from. \"release_evidences.json\" is a json-dumped dictionary of all the possible symptoms.\n",
    "\n",
    "The .csv files are lists of patients, the disease they suffer from, their symptoms, sex, and some other information that we will not make use of."
   ]
  },
  {
   "cell_type": "code",
   "execution_count": 15,
   "metadata": {},
   "outputs": [],
   "source": [
    "conditions_file = \"release_conditions.json\"\n",
    "evidences_file = \"release_evidences.json\"\n",
    "train_file= \"release_train_patients/release_train_patients.csv\"\n",
    "test_file = \"release_test_patients/release_test_patients.csv\"\n",
    "valid_file = \"release_validate_patients/release_validate_patients.csv\""
   ]
  },
  {
   "cell_type": "code",
   "execution_count": 3,
   "metadata": {},
   "outputs": [],
   "source": [
    "def read_json_file(file_path):\n",
    "  with open(file_path) as file:\n",
    "    data = file.read()\n",
    "    return json.loads(data)"
   ]
  },
  {
   "cell_type": "code",
   "execution_count": 4,
   "metadata": {},
   "outputs": [],
   "source": [
    "conditions = read_json_file(conditions_file)\n",
    "evidences = read_json_file(evidences_file)"
   ]
  },
  {
   "cell_type": "code",
   "execution_count": 16,
   "metadata": {},
   "outputs": [],
   "source": [
    "df_train = pd.read_csv(train_file)\n",
    "df_test = pd.read_csv(test_file)\n",
    "df_valid = pd.read_csv(valid_file)"
   ]
  },
  {
   "cell_type": "code",
   "execution_count": 6,
   "metadata": {},
   "outputs": [],
   "source": [
    "def parse_evidence_string(evidence_string):\n",
    "  json_evidence = evidence_string.replace('\"', \"!\").replace(\"'\", '\"').replace(\"!\", \"'\")\n",
    "  return json.loads(json_evidence)"
   ]
  },
  {
   "cell_type": "markdown",
   "metadata": {},
   "source": [
    "We augment the dictionary read from the release_evidences.json file, resulting in a new dictionary, which makes the following changes:\n",
    "- a multiple-choice evidence (meaning the patient can choose more than one value) X with values Y, Z and W becomes 3 evidences, X-Y, X-Z and X-W\n",
    "- categorical evidences, for which the patient is presented with a list of options from which they can select only one, remain one single evidence, and their values are encoded as positive numbers starting at 0, following the meaning of the evidence, where possible (for example the numbers associated to the intensity of pain grow as the intensity grows)\n",
    "- binary evidences are left as is\n",
    "\n",
    "The new dictionary consists of:\n",
    "- the evidences/symptoms as keys\n",
    "- dictionaries describing the symptoms as values\n",
    "- the dictionary corresponding to a binary value contains its assigned numerical index, and its default value\n",
    "- the dictionary corresponding to a categorical value contains its assigned numerical index, a dictionary that assignes numerical values to its values, and its default value, in numerical form\n",
    "- the multiple-choice symptoms are discretized into binary symptoms\n",
    "- each evidence dictionary also contains the english description of the symptom, and the value dictionary contain english descriptions of the values"
   ]
  },
  {
   "cell_type": "code",
   "execution_count": 7,
   "metadata": {},
   "outputs": [],
   "source": [
    "def make_evidence_dict(evidences_df):\n",
    "  evidence_dict = dict()\n",
    "  for evidence in tqdm(evidences_df.values()):\n",
    "    name = evidence[\"name\"]\n",
    "    default = evidence[\"default_value\"]\n",
    "    description = evidence[\"question_en\"]\n",
    "    type = evidence[\"data_type\"]\n",
    "\n",
    "    # binary data\n",
    "    if type == 'B':\n",
    "      evidence_dict[name] = {\n",
    "        \"default\" : default,\n",
    "        \"description\" : description,\n",
    "        \"index\" : len(evidence_dict),\n",
    "        \"type\" : \"binary\",\n",
    "      }\n",
    "      continue\n",
    "\n",
    "    # categorical symptoms\n",
    "    if type == 'C' and \"value_meaning\" in evidence and len(evidence[\"value_meaning\"]) != 0:\n",
    "      evidence_dict[name] = dict()\n",
    "\n",
    "      evidence_dict[name][\"values\"] = dict()\n",
    "      for value_name, value_data in evidence[\"value_meaning\"].items():\n",
    "        evidence_dict[name][\"values\"][str(value_name)] = {\n",
    "          \"index\" : len(evidence_dict[name][\"values\"]),\n",
    "          \"description\" : value_data[\"en\"]\n",
    "        }\n",
    "      \n",
    "      evidence_dict[name][\"default\"] = evidence_dict[name][\"values\"][str(default)][\"index\"]\n",
    "      evidence_dict[name][\"description\"] = evidence[\"question_en\"]\n",
    "      evidence_dict[name][\"index\"] = len(evidence_dict)\n",
    "      evidence_dict[name][\"type\"] = \"categorical\"\n",
    "      continue\n",
    "\n",
    "    if type == 'C' and ((not \"value_meaning\" in evidence) or len(evidence[\"value_meaning\"]) == 0):\n",
    "      evidence_dict[name] = dict()\n",
    "      evidence_dict[name][\"values\"] = dict()\n",
    "      for value in evidence[\"possible-values\"]:\n",
    "        evidence_dict[name][\"values\"][str(value)] = {\n",
    "          \"index\" : len(evidence_dict[name][\"values\"]),\n",
    "          \"description\" : value\n",
    "        }\n",
    "\n",
    "      evidence_dict[name][\"default\"] = int(default)\n",
    "      evidence_dict[name][\"description\"] = description\n",
    "      evidence_dict[name][\"index\"] = len(evidence_dict)\n",
    "      evidence_dict[name][\"type\"] = \"categorical\"\n",
    "      continue\n",
    "\n",
    "    # multiple-choice value\n",
    "    if type == 'M':\n",
    "      for value_name, value_data in evidence[\"value_meaning\"].items():\n",
    "        discretized_name = name + \"%\" + value_name\n",
    "        evidence_dict[discretized_name] = {\n",
    "          \"index\" : len(evidence_dict),\n",
    "          \"default_value\" : 1 if value_name == default else 0,\n",
    "          \"description\" : description + \" \" + value_data[\"en\"],\n",
    "          \"type\" : \"multiple\"\n",
    "        }\n",
    "      continue\n",
    "\n",
    "  return evidence_dict"
   ]
  },
  {
   "cell_type": "code",
   "execution_count": 8,
   "metadata": {},
   "outputs": [],
   "source": [
    "def make_disease_dict(diseases):\n",
    "  disease_to_numerical = dict()\n",
    "  for disease in diseases:\n",
    "    disease_to_numerical[disease] = len(disease_to_numerical)\n",
    "  return disease_to_numerical"
   ]
  },
  {
   "cell_type": "code",
   "execution_count": 9,
   "metadata": {},
   "outputs": [
    {
     "name": "stderr",
     "output_type": "stream",
     "text": [
      "100%|██████████| 223/223 [00:00<00:00, 111468.21it/s]\n"
     ]
    }
   ],
   "source": [
    "evidence_dict = make_evidence_dict(evidences)\n",
    "disease_dict = make_disease_dict(conditions)"
   ]
  },
  {
   "cell_type": "code",
   "execution_count": 10,
   "metadata": {},
   "outputs": [],
   "source": [
    "def evidences_string_to_dict(evidences):\n",
    "  # swap \" and ' to turn the string into valid JSON\n",
    "  evidences = evidences.replace(\"'\", '&').replace('\"', \"'\").replace(\"&\", '\"')\n",
    "  return json.loads(evidences)"
   ]
  },
  {
   "cell_type": "code",
   "execution_count": null,
   "metadata": {},
   "outputs": [],
   "source": []
  },
  {
   "cell_type": "code",
   "execution_count": 11,
   "metadata": {},
   "outputs": [],
   "source": [
    "def df_to_Tensors(df, evidence_dict, disease_dict):\n",
    "  size = len(df)\n",
    "  # we also take in age and sex as features, besides the symptoms\n",
    "  feature_count = len(evidence_dict)\n",
    "\n",
    "  # X_tensor[i][j] = 1 if patient i has symptom j\n",
    "  # for sex, 0 means male and 1 means female\n",
    "  # for age and categorical symptoms, X_tensor[i][j] is the number that\n",
    "  # represents the age/index of the value\n",
    "  # the last feature is the age, the feature before that is the sex\n",
    "  X_tensor = torch.zeros(size, feature_count)\n",
    "\n",
    "  # y_tensor[i][j] = 1 if patient i has disease j, and 0 otherwise\n",
    "  y_tensor = torch.zeros(size).type(torch.LongTensor)\n",
    "\n",
    "  for index, row in tqdm(enumerate(df.itertuples(index = False))):\n",
    "    age = row.AGE\n",
    "    evidences = row.EVIDENCES\n",
    "    sex = row.SEX\n",
    "    pathology = row.PATHOLOGY\n",
    "\n",
    "    X_tensor[index][-1] = age\n",
    "    X_tensor[index][-2] = 0 if sex == 'M' else 1\n",
    "\n",
    "    evidence_list = evidences_string_to_dict(evidences)\n",
    "\n",
    "    for evidence in evidence_list:\n",
    "      if '_@_' in evidence:\n",
    "        evidence_name, evidence_value = evidence.split(\"_@_\")\n",
    "\n",
    "        # categorical symptom\n",
    "        if evidence_name in evidence_dict:\n",
    "          disease_index = evidence_dict[evidence_name][\"index\"]\n",
    "          value_index = evidence_dict[evidence_name][\"values\"][evidence_value][\"index\"]\n",
    "          X_tensor[index][disease_index] = value_index\n",
    "        \n",
    "        # multi symptom\n",
    "        if evidence_name not in evidence_dict:\n",
    "          disease_index = evidence_dict[evidence_name + \"%\" + evidence_value][\"index\"]\n",
    "          X_tensor[index][disease_index] = 1\n",
    "      \n",
    "      else:\n",
    "        # binary symptom\n",
    "        X_tensor[index][evidence_dict[evidence][\"index\"]] = 1\n",
    "\n",
    "      y_tensor[index] = disease_dict[pathology]\n",
    "\n",
    "  return X_tensor, y_tensor"
   ]
  },
  {
   "cell_type": "code",
   "execution_count": 34,
   "metadata": {},
   "outputs": [
    {
     "name": "stderr",
     "output_type": "stream",
     "text": [
      "1025602it [04:06, 4160.17it/s]\n"
     ]
    }
   ],
   "source": [
    "X_train, y_train = df_to_Tensors(df_train, evidence_dict, disease_dict)"
   ]
  },
  {
   "cell_type": "code",
   "execution_count": 35,
   "metadata": {},
   "outputs": [
    {
     "name": "stderr",
     "output_type": "stream",
     "text": [
      "0it [00:00, ?it/s]"
     ]
    },
    {
     "name": "stderr",
     "output_type": "stream",
     "text": [
      "134529it [00:33, 4058.33it/s]\n"
     ]
    }
   ],
   "source": [
    "X_test, y_test = df_to_Tensors(df_test, evidence_dict, disease_dict)"
   ]
  },
  {
   "cell_type": "code",
   "execution_count": 17,
   "metadata": {},
   "outputs": [
    {
     "name": "stderr",
     "output_type": "stream",
     "text": [
      "132448it [00:41, 3155.91it/s]\n"
     ]
    }
   ],
   "source": [
    "X_valid, y_valid = df_to_Tensors(df_valid, evidence_dict, disease_dict)"
   ]
  },
  {
   "cell_type": "code",
   "execution_count": 42,
   "metadata": {},
   "outputs": [],
   "source": [
    "with open(\"clean_dataset/diseases.json\", \"w\") as file:\n",
    "  file.write(json.dumps(disease_dict)) "
   ]
  },
  {
   "cell_type": "code",
   "execution_count": 43,
   "metadata": {},
   "outputs": [],
   "source": [
    "with open(\"clean_dataset/evidences.json\", \"w\") as file:\n",
    "  file.write(json.dumps(evidence_dict)) "
   ]
  },
  {
   "cell_type": "code",
   "execution_count": 38,
   "metadata": {},
   "outputs": [],
   "source": [
    "torch.save(X_train, \"clean_dataset/X_train.pt\")\n",
    "torch.save(y_train, \"clean_dataset/y_train.pt\")"
   ]
  },
  {
   "cell_type": "code",
   "execution_count": 39,
   "metadata": {},
   "outputs": [],
   "source": [
    "torch.save(X_test, \"clean_dataset/X_test.pt\")\n",
    "torch.save(y_test, \"clean_dataset/y_test.pt\")"
   ]
  },
  {
   "cell_type": "code",
   "execution_count": 18,
   "metadata": {},
   "outputs": [],
   "source": [
    "torch.save(X_valid, \"clean_dataset/X_valid.pt\")\n",
    "torch.save(y_valid, \"clean_dataset/y_valid.pt\")"
   ]
  },
  {
   "cell_type": "code",
   "execution_count": 40,
   "metadata": {},
   "outputs": [],
   "source": [
    "d={\"ab\":{\"abc\":1, \"bf\":2}}"
   ]
  },
  {
   "cell_type": "code",
   "execution_count": 41,
   "metadata": {},
   "outputs": [
    {
     "data": {
      "text/plain": [
       "dict_keys(['abc', 'bf'])"
      ]
     },
     "execution_count": 41,
     "metadata": {},
     "output_type": "execute_result"
    }
   ],
   "source": [
    "d[\"ab\"].keys()"
   ]
  },
  {
   "cell_type": "code",
   "execution_count": 19,
   "metadata": {},
   "outputs": [
    {
     "name": "stderr",
     "output_type": "stream",
     "text": [
      "  0%|          | 0/894 [00:00<?, ?it/s]"
     ]
    },
    {
     "name": "stdout",
     "output_type": "stream",
     "text": [
      "Have you recently had numbness, loss of sensation or tingling, in both arms and legs and around your mouth?\n",
      "Numbness/loss of sensation/tingling in arms, legs and around mouth\n"
     ]
    },
    {
     "name": "stderr",
     "output_type": "stream",
     "text": [
      " 84%|████████▍ | 753/894 [00:21<00:04, 34.75it/s]"
     ]
    },
    {
     "name": "stdout",
     "output_type": "stream",
     "text": [
      "Did you previously, or do you currently, have any weakness/paralysis in one or more of your limbs or in your face?\n",
      "Weakness/paralysis in limbs or face\n",
      "Have you been in contact with or ate something that you have an allergy to?\n"
     ]
    },
    {
     "name": "stderr",
     "output_type": "stream",
     "text": [
      " 84%|████████▍ | 753/894 [00:39<00:04, 34.75it/s]"
     ]
    },
    {
     "name": "stdout",
     "output_type": "stream",
     "text": [
      "Touched/ate something you are allergic to\n"
     ]
    },
    {
     "name": "stderr",
     "output_type": "stream",
     "text": [
      " 84%|████████▍ | 755/894 [00:55<00:12, 10.77it/s]"
     ]
    },
    {
     "name": "stdout",
     "output_type": "stream",
     "text": [
      "Have you noticed a wheezing sound when you exhale?\n",
      "Wheezing sound when you exhale\n"
     ]
    },
    {
     "name": "stderr",
     "output_type": "stream",
     "text": [
      " 85%|████████▍ | 756/894 [01:03<00:15,  8.73it/s]"
     ]
    },
    {
     "name": "stdout",
     "output_type": "stream",
     "text": [
      "Have you been able to pass stools or gas since your symptoms increased?\n",
      "Unable to pass stools/gas\n"
     ]
    },
    {
     "name": "stderr",
     "output_type": "stream",
     "text": [
      " 85%|████████▍ | 757/894 [01:49<00:39,  3.47it/s]"
     ]
    },
    {
     "name": "stdout",
     "output_type": "stream",
     "text": [
      "Do you have a decrease in appetite?\n",
      "Decrease in appetite\n"
     ]
    },
    {
     "name": "stderr",
     "output_type": "stream",
     "text": [
      " 85%|████████▍ | 758/894 [01:54<00:42,  3.19it/s]"
     ]
    },
    {
     "name": "stdout",
     "output_type": "stream",
     "text": [
      "Are the symptoms or pain increased with coughing, with an effort like lifting a weight or from forcing a bowel movement?\n",
      "Symptoms increased with coughing/effort/forcing bowel movement\n"
     ]
    },
    {
     "name": "stderr",
     "output_type": "stream",
     "text": [
      " 85%|████████▍ | 759/894 [02:11<01:00,  2.23it/s]"
     ]
    },
    {
     "name": "stdout",
     "output_type": "stream",
     "text": [
      "Does the person have a whooping cough?\n",
      "Whopping cough\n"
     ]
    },
    {
     "name": "stderr",
     "output_type": "stream",
     "text": [
      " 85%|████████▌ | 760/894 [02:17<01:07,  2.00it/s]"
     ]
    },
    {
     "name": "stdout",
     "output_type": "stream",
     "text": [
      "Are your symptoms more prominent at night?\n",
      "Symptoms prominent at night\n"
     ]
    },
    {
     "name": "stderr",
     "output_type": "stream",
     "text": [
      " 85%|████████▌ | 761/894 [02:24<01:19,  1.67it/s]"
     ]
    },
    {
     "name": "stdout",
     "output_type": "stream",
     "text": [
      "Have you had surgery within the last month?\n",
      "Had surgery last month\n"
     ]
    },
    {
     "name": "stderr",
     "output_type": "stream",
     "text": [
      " 85%|████████▌ | 762/894 [02:57<02:51,  1.30s/it]"
     ]
    },
    {
     "name": "stdout",
     "output_type": "stream",
     "text": [
      "Do you have severe itching in one or both eyes?\n",
      "Severe itching in eyes\n"
     ]
    },
    {
     "name": "stderr",
     "output_type": "stream",
     "text": [
      " 85%|████████▌ | 763/894 [03:04<03:11,  1.46s/it]"
     ]
    },
    {
     "name": "stdout",
     "output_type": "stream",
     "text": [
      "Do you have a cough that produces colored or more abundant sputum than usual?\n",
      "Cough that produces colored / abundant sputum\n"
     ]
    },
    {
     "name": "stderr",
     "output_type": "stream",
     "text": [
      " 85%|████████▌ | 764/894 [03:13<03:53,  1.80s/it]"
     ]
    },
    {
     "name": "stdout",
     "output_type": "stream",
     "text": [
      "Do you find that your symptoms have worsened over the last 2 weeks and that progressively less effort is required to cause the symptoms?\n",
      "Symptoms have worsened over the last 2 weeks / less effort is required to cause them\n"
     ]
    },
    {
     "name": "stderr",
     "output_type": "stream",
     "text": [
      " 86%|████████▌ | 765/894 [03:36<06:18,  2.93s/it]"
     ]
    },
    {
     "name": "stdout",
     "output_type": "stream",
     "text": [
      "Do you have chest pain even at rest?\n",
      "Chest pain even at rest\n"
     ]
    },
    {
     "name": "stderr",
     "output_type": "stream",
     "text": [
      " 86%|████████▌ | 766/894 [03:41<06:40,  3.13s/it]"
     ]
    },
    {
     "name": "stdout",
     "output_type": "stream",
     "text": [
      "Is your nose or the back of your throat itchy?\n",
      "Nose / back of throat itchy\n"
     ]
    },
    {
     "name": "stderr",
     "output_type": "stream",
     "text": [
      " 86%|████████▌ | 767/894 [03:50<07:40,  3.63s/it]"
     ]
    },
    {
     "name": "stdout",
     "output_type": "stream",
     "text": [
      "Do you currently, or did you ever, have numbness, loss of sensitivity or tingling anywhere on your body?\n",
      "Numbness, loss of sensitivity / tingling, now or in the past\n"
     ]
    },
    {
     "name": "stderr",
     "output_type": "stream",
     "text": [
      " 86%|████████▌ | 768/894 [04:15<13:02,  6.21s/it]"
     ]
    },
    {
     "name": "stdout",
     "output_type": "stream",
     "text": [
      "Have you noticed any new fatigue, generalized and vague discomfort, diffuse (widespread) muscle aches or a change in your general well-being related to your consultation today?\n",
      "New fatigue, vague discomfort, widespread muscle aches, or other change today\n"
     ]
    },
    {
     "name": "stderr",
     "output_type": "stream",
     "text": [
      " 86%|████████▌ | 769/894 [04:46<20:23,  9.79s/it]"
     ]
    },
    {
     "name": "stdout",
     "output_type": "stream",
     "text": [
      "Have you been unintentionally losing weight or have you lost your appetite?\n",
      "Unintentionally losing weight / lost appetite\n"
     ]
    },
    {
     "name": "stderr",
     "output_type": "stream",
     "text": [
      " 86%|████████▌ | 770/894 [05:01<22:09, 10.72s/it]"
     ]
    },
    {
     "name": "stdout",
     "output_type": "stream",
     "text": [
      "Do you have very abundant or very long menstruation periods?\n",
      "Very abundant or very long menstruation periods\n"
     ]
    },
    {
     "name": "stderr",
     "output_type": "stream",
     "text": [
      " 86%|████████▌ | 771/894 [05:10<21:15, 10.37s/it]"
     ]
    },
    {
     "name": "stdout",
     "output_type": "stream",
     "text": [
      "Did your cheeks suddenly turn red?\n",
      "Cheeks suddenly turn red\n"
     ]
    },
    {
     "name": "stderr",
     "output_type": "stream",
     "text": [
      " 86%|████████▋ | 772/894 [05:18<19:45,  9.72s/it]"
     ]
    },
    {
     "name": "stdout",
     "output_type": "stream",
     "text": [
      "Do you feel that muscle spasms or soreness in your neck are keeping you from turning your head to one side?\n",
      "Muscle spasms / soreness in neck prevent you from turning your head to one side\n"
     ]
    },
    {
     "name": "stderr",
     "output_type": "stream",
     "text": [
      " 86%|████████▋ | 773/894 [05:34<22:52, 11.34s/it]"
     ]
    },
    {
     "name": "stdout",
     "output_type": "stream",
     "text": [
      "Do you have pale stools and dark urine?\n",
      "Pale stools and dark urine\n"
     ]
    },
    {
     "name": "stderr",
     "output_type": "stream",
     "text": [
      " 87%|████████▋ | 774/894 [05:40<19:53,  9.94s/it]"
     ]
    },
    {
     "name": "stdout",
     "output_type": "stream",
     "text": [
      "Do you feel your heart is beating very irregularly or in a disorganized pattern?\n",
      "Heart beating irregularly / in disorganized pattern\n"
     ]
    },
    {
     "name": "stderr",
     "output_type": "stream",
     "text": [
      " 87%|████████▋ | 775/894 [05:55<22:39, 11.42s/it]"
     ]
    },
    {
     "name": "stdout",
     "output_type": "stream",
     "text": [
      "Do you have annoying muscle spasms in your face, neck or any other part of your body?\n",
      "Annoying muscle spasms in face/neck/other body part\n"
     ]
    },
    {
     "name": "stderr",
     "output_type": "stream",
     "text": [
      " 87%|████████▋ | 776/894 [06:08<23:10, 11.79s/it]"
     ]
    },
    {
     "name": "stdout",
     "output_type": "stream",
     "text": [
      "Do you have trouble keeping your tongue in your mouth?\n",
      "Trouble keeping your tongue in your mouth\n"
     ]
    },
    {
     "name": "stderr",
     "output_type": "stream",
     "text": [
      " 87%|████████▋ | 777/894 [06:15<20:13, 10.38s/it]"
     ]
    },
    {
     "name": "stdout",
     "output_type": "stream",
     "text": [
      "Are you unable to control the direction of your eyes?\n",
      "Unable to control direction of eyes\n"
     ]
    },
    {
     "name": "stderr",
     "output_type": "stream",
     "text": [
      " 87%|████████▋ | 778/894 [06:20<17:18,  8.95s/it]"
     ]
    },
    {
     "name": "stdout",
     "output_type": "stream",
     "text": [
      "Do you have bouts of choking or shortness of breath that wake you up at night?\n",
      "Bouts of choking or shortness of breath that wake you up at night\n"
     ]
    },
    {
     "name": "stderr",
     "output_type": "stream",
     "text": [
      " 87%|████████▋ | 779/894 [06:34<19:53, 10.38s/it]"
     ]
    },
    {
     "name": "stdout",
     "output_type": "stream",
     "text": [
      "Do you drink alcohol excessively or do you have an addiction to alcohol?\n",
      "Excessive alcohol drinking / addiction\n"
     ]
    },
    {
     "name": "stderr",
     "output_type": "stream",
     "text": [
      " 87%|████████▋ | 780/894 [06:48<21:22, 11.25s/it]"
     ]
    },
    {
     "name": "stdout",
     "output_type": "stream",
     "text": [
      "Are you taking any new oral anticoagulants ((NOACs)?\n",
      "Taking new oral anticoagulants (NOACs)\n"
     ]
    },
    {
     "name": "stderr",
     "output_type": "stream",
     "text": [
      " 87%|████████▋ | 781/894 [06:58<20:55, 11.11s/it]"
     ]
    },
    {
     "name": "stdout",
     "output_type": "stream",
     "text": [
      "Do you feel like you are detached from your own body or your surroundings?\n",
      "Detached from your body / surroundings\n"
     ]
    },
    {
     "name": "stderr",
     "output_type": "stream",
     "text": [
      " 87%|████████▋ | 782/894 [07:07<19:26, 10.42s/it]"
     ]
    },
    {
     "name": "stdout",
     "output_type": "stream",
     "text": [
      "Do you feel like you are dying or were you afraid that you were about do die?\n",
      "Feel like dying / afraid you are about to die\n"
     ]
    },
    {
     "name": "stderr",
     "output_type": "stream",
     "text": [
      " 88%|████████▊ | 783/894 [07:18<19:40, 10.63s/it]"
     ]
    },
    {
     "name": "stdout",
     "output_type": "stream",
     "text": [
      "Do you have greenish or yellowish nasal discharge?\n",
      "Greenish/yellowish nasal discharge\n"
     ]
    },
    {
     "name": "stderr",
     "output_type": "stream",
     "text": [
      " 88%|████████▊ | 784/894 [07:28<18:51, 10.29s/it]"
     ]
    },
    {
     "name": "stdout",
     "output_type": "stream",
     "text": [
      "Have you lost your sense of smell?\n",
      "Lost sense of smell\n"
     ]
    },
    {
     "name": "stderr",
     "output_type": "stream",
     "text": [
      " 88%|████████▊ | 785/894 [07:32<15:06,  8.31s/it]"
     ]
    },
    {
     "name": "stdout",
     "output_type": "stream",
     "text": [
      "Do you ever temporarily stop breathing while you’re asleep?\n",
      "Temporarily stop breathing while sleeping\n"
     ]
    },
    {
     "name": "stderr",
     "output_type": "stream",
     "text": [
      " 88%|████████▊ | 786/894 [07:42<16:10,  8.98s/it]"
     ]
    },
    {
     "name": "stdout",
     "output_type": "stream",
     "text": [
      "Have you ever had a heart attack or do you have angina (chest pain)?\n",
      "Ever had a heart attack or having chest pain\n"
     ]
    },
    {
     "name": "stderr",
     "output_type": "stream",
     "text": [
      " 88%|████████▊ | 787/894 [08:01<21:27, 12.03s/it]"
     ]
    },
    {
     "name": "stdout",
     "output_type": "stream",
     "text": [
      "Do you have a problem with poor circulation?\n",
      "Poor circulation\n"
     ]
    },
    {
     "name": "stderr",
     "output_type": "stream",
     "text": [
      " 88%|████████▊ | 788/894 [08:06<17:33,  9.94s/it]"
     ]
    },
    {
     "name": "stdout",
     "output_type": "stream",
     "text": [
      "Do you have high blood pressure or do you take medications to treat high blood pressure?\n",
      "High blood pressure / take medications to treat high blood pressure\n"
     ]
    },
    {
     "name": "stderr",
     "output_type": "stream",
     "text": [
      " 88%|████████▊ | 789/894 [08:25<22:01, 12.58s/it]"
     ]
    },
    {
     "name": "stdout",
     "output_type": "stream",
     "text": [
      "Do you smoke cigarettes?\n",
      "Smoking\n"
     ]
    },
    {
     "name": "stderr",
     "output_type": "stream",
     "text": [
      " 88%|████████▊ | 790/894 [08:28<16:56,  9.77s/it]"
     ]
    },
    {
     "name": "stdout",
     "output_type": "stream",
     "text": [
      "Do you have high cholesterol or do you take medications to treat high cholesterol?\n",
      "High cholesterol / take medications for it\n"
     ]
    },
    {
     "name": "stderr",
     "output_type": "stream",
     "text": [
      " 88%|████████▊ | 791/894 [08:42<18:42, 10.90s/it]"
     ]
    },
    {
     "name": "stdout",
     "output_type": "stream",
     "text": [
      "Have you been in contact with a person with similar symptoms in the past 2 weeks?\n",
      "Recently in contact with person with similar symptoms\n"
     ]
    },
    {
     "name": "stderr",
     "output_type": "stream",
     "text": [
      " 89%|████████▊ | 792/894 [09:00<22:25, 13.19s/it]"
     ]
    },
    {
     "name": "stdout",
     "output_type": "stream",
     "text": [
      "Do you currently take hormones?\n",
      "Take hormones\n"
     ]
    },
    {
     "name": "stderr",
     "output_type": "stream",
     "text": [
      " 89%|████████▊ | 793/894 [09:07<18:42, 11.12s/it]"
     ]
    },
    {
     "name": "stdout",
     "output_type": "stream",
     "text": [
      "Do you have diabetes?\n",
      "Have diabetes\n"
     ]
    },
    {
     "name": "stderr",
     "output_type": "stream",
     "text": [
      " 89%|████████▉ | 794/894 [09:11<15:04,  9.04s/it]"
     ]
    },
    {
     "name": "stdout",
     "output_type": "stream",
     "text": [
      "Do you think you are pregnant or are you currently pregnant?\n",
      "Think you are / you are pregnant\n"
     ]
    },
    {
     "name": "stderr",
     "output_type": "stream",
     "text": [
      " 89%|████████▉ | 795/894 [09:19<14:32,  8.81s/it]"
     ]
    },
    {
     "name": "stdout",
     "output_type": "stream",
     "text": [
      "Have you had unprotected sex with more than one partner in the last 6 months?\n",
      "Unprotected sex in the last 6 months\n"
     ]
    },
    {
     "name": "stderr",
     "output_type": "stream",
     "text": [
      " 89%|████████▉ | 796/894 [09:30<15:40,  9.60s/it]"
     ]
    },
    {
     "name": "stdout",
     "output_type": "stream",
     "text": [
      "Are you significantly overweight compared to people of the same height as you?\n",
      "Significantly overweight compared to people of the same height\n"
     ]
    },
    {
     "name": "stderr",
     "output_type": "stream",
     "text": [
      " 89%|████████▉ | 797/894 [09:42<16:34, 10.25s/it]"
     ]
    },
    {
     "name": "stdout",
     "output_type": "stream",
     "text": [
      "Are you currently taking or have you recently taken anti-inflammatory drugs (NSAIDs)?\n",
      "Taking/have taken anti-inflammatory drugs (NSAIDs)\n"
     ]
    },
    {
     "name": "stderr",
     "output_type": "stream",
     "text": [
      " 89%|████████▉ | 798/894 [09:58<18:57, 11.85s/it]"
     ]
    },
    {
     "name": "stdout",
     "output_type": "stream",
     "text": [
      "Have any of your family members ever had a pneumothorax?\n",
      "Family member had pneumothorax\n"
     ]
    },
    {
     "name": "stderr",
     "output_type": "stream",
     "text": [
      " 89%|████████▉ | 799/894 [10:08<18:02, 11.39s/it]"
     ]
    },
    {
     "name": "stdout",
     "output_type": "stream",
     "text": [
      "Do you currently undergo dialysis?\n",
      "Currently undergo dialysis\n"
     ]
    },
    {
     "name": "stderr",
     "output_type": "stream",
     "text": [
      " 89%|████████▉ | 800/894 [10:16<16:15, 10.38s/it]"
     ]
    },
    {
     "name": "stdout",
     "output_type": "stream",
     "text": [
      "Have any of your family members been diagnosed with cluster headaches?\n",
      "Family member diagnosed with cluster headaches\n"
     ]
    },
    {
     "name": "stderr",
     "output_type": "stream",
     "text": [
      " 90%|████████▉ | 801/894 [10:34<19:19, 12.47s/it]"
     ]
    },
    {
     "name": "stdout",
     "output_type": "stream",
     "text": [
      "Do you take medication that dilates your blood vessels?\n",
      "Take medication that dilates blood vessels\n"
     ]
    },
    {
     "name": "stderr",
     "output_type": "stream",
     "text": [
      " 90%|████████▉ | 802/894 [10:44<18:11, 11.87s/it]"
     ]
    },
    {
     "name": "stdout",
     "output_type": "stream",
     "text": [
      "Have you ever had a head trauma?\n",
      "Had head trauma\n"
     ]
    },
    {
     "name": "stderr",
     "output_type": "stream",
     "text": [
      " 90%|████████▉ | 803/894 [10:51<15:45, 10.39s/it]"
     ]
    },
    {
     "name": "stdout",
     "output_type": "stream",
     "text": [
      "Have you ever had a migraine or is a member of your family known to have migraines?\n",
      "You or family member ever had migraines?\n"
     ]
    },
    {
     "name": "stderr",
     "output_type": "stream",
     "text": [
      " 90%|████████▉ | 804/894 [11:07<18:15, 12.17s/it]"
     ]
    },
    {
     "name": "stdout",
     "output_type": "stream",
     "text": [
      "Have you ever had a stroke?\n",
      "Had a stroke\n"
     ]
    },
    {
     "name": "stderr",
     "output_type": "stream",
     "text": [
      " 90%|█████████ | 805/894 [11:13<15:14, 10.28s/it]"
     ]
    },
    {
     "name": "stdout",
     "output_type": "stream",
     "text": [
      "Are you more likely to develop common allergies than the general population?\n",
      "Developed larger amount of common allergies\n"
     ]
    },
    {
     "name": "stderr",
     "output_type": "stream",
     "text": [
      " 90%|█████████ | 806/894 [11:30<17:53, 12.20s/it]"
     ]
    },
    {
     "name": "stdout",
     "output_type": "stream",
     "text": [
      "Do you regularly take stimulant drugs?\n",
      "Regularly take stimulant drugs\n"
     ]
    },
    {
     "name": "stderr",
     "output_type": "stream",
     "text": [
      " 90%|█████████ | 807/894 [11:38<16:06, 11.11s/it]"
     ]
    },
    {
     "name": "stdout",
     "output_type": "stream",
     "text": [
      "Do you attend or work in a daycare?\n",
      "Attend daycare / work in a daycare\n"
     ]
    },
    {
     "name": "stderr",
     "output_type": "stream",
     "text": [
      " 90%|█████████ | 808/894 [11:46<14:18,  9.98s/it]"
     ]
    },
    {
     "name": "stdout",
     "output_type": "stream",
     "text": [
      "Do you have Parkinson’s disease?\n",
      "Have Parkinson's disease\n"
     ]
    },
    {
     "name": "stderr",
     "output_type": "stream",
     "text": [
      " 90%|█████████ | 809/894 [11:51<12:09,  8.58s/it]"
     ]
    },
    {
     "name": "stdout",
     "output_type": "stream",
     "text": [
      "Have you traveled out of the country in the last 4 weeks?\n",
      "Traveled out of the country in the last month\n"
     ]
    },
    {
     "name": "stderr",
     "output_type": "stream",
     "text": [
      " 91%|█████████ | 810/894 [11:59<11:43,  8.37s/it]"
     ]
    },
    {
     "name": "stdout",
     "output_type": "stream",
     "text": [
      "Do you have metastatic cancer?\n",
      "Have metastatic cancer\n"
     ]
    },
    {
     "name": "stderr",
     "output_type": "stream",
     "text": [
      " 91%|█████████ | 811/894 [12:04<10:05,  7.30s/it]"
     ]
    },
    {
     "name": "stdout",
     "output_type": "stream",
     "text": [
      "Are you being treated for osteoporosis?\n",
      "Treated for osteoporosis\n"
     ]
    },
    {
     "name": "stderr",
     "output_type": "stream",
     "text": [
      " 91%|█████████ | 812/894 [12:10<09:42,  7.11s/it]"
     ]
    },
    {
     "name": "stdout",
     "output_type": "stream",
     "text": [
      "Do you have asthma or have you ever had to use a bronchodilator in the past?\n",
      "Have asthma / had to use bronchodilator\n"
     ]
    },
    {
     "name": "stderr",
     "output_type": "stream",
     "text": [
      " 91%|█████████ | 813/894 [12:21<11:11,  8.29s/it]"
     ]
    },
    {
     "name": "stdout",
     "output_type": "stream",
     "text": [
      "Do you have a hiatal hernia?\n",
      "Have hiatal hernia\n"
     ]
    },
    {
     "name": "stderr",
     "output_type": "stream",
     "text": [
      " 91%|█████████ | 814/894 [12:28<10:19,  7.74s/it]"
     ]
    },
    {
     "name": "stdout",
     "output_type": "stream",
     "text": [
      "Have you had a cold in the last 2 weeks?\n",
      "Had a cold recently\n"
     ]
    },
    {
     "name": "stderr",
     "output_type": "stream",
     "text": [
      " 91%|█████████ | 815/894 [12:36<10:09,  7.71s/it]"
     ]
    },
    {
     "name": "stdout",
     "output_type": "stream",
     "text": [
      "Do you live with 4 or more people?\n",
      "Live with 4+ people\n"
     ]
    },
    {
     "name": "stderr",
     "output_type": "stream",
     "text": [
      " 91%|█████████▏| 816/894 [12:40<08:54,  6.85s/it]"
     ]
    },
    {
     "name": "stdout",
     "output_type": "stream",
     "text": [
      "Are you infected with the human immunodeficiency virus (HIV)?\n",
      "Infected with HIV\n"
     ]
    },
    {
     "name": "stderr",
     "output_type": "stream",
     "text": [
      " 91%|█████████▏| 817/894 [12:46<08:08,  6.35s/it]"
     ]
    },
    {
     "name": "stdout",
     "output_type": "stream",
     "text": [
      "Are you immunosuppressed?\n",
      "Immunosuppressed\n"
     ]
    },
    {
     "name": "stderr",
     "output_type": "stream",
     "text": [
      " 91%|█████████▏| 818/894 [12:52<07:55,  6.25s/it]"
     ]
    },
    {
     "name": "stdout",
     "output_type": "stream",
     "text": [
      "Are you currently using intravenous drugs?\n",
      "Using intravenous drugs\n"
     ]
    },
    {
     "name": "stderr",
     "output_type": "stream",
     "text": [
      " 92%|█████████▏| 819/894 [12:56<07:02,  5.63s/it]"
     ]
    },
    {
     "name": "stdout",
     "output_type": "stream",
     "text": [
      "Do you suffer from Crohn’s disease or ulcerative colitis (UC)?\n",
      "Suffer from Crohn's or ulcerative colitis (UC)?\n"
     ]
    },
    {
     "name": "stderr",
     "output_type": "stream",
     "text": [
      " 92%|█████████▏| 820/894 [13:09<09:46,  7.92s/it]"
     ]
    },
    {
     "name": "stdout",
     "output_type": "stream",
     "text": [
      "Have you ever had a sexually transmitted infection?\n",
      "Had sexually transmitted infection\n"
     ]
    },
    {
     "name": "stderr",
     "output_type": "stream",
     "text": [
      " 92%|█████████▏| 821/894 [13:18<09:57,  8.19s/it]"
     ]
    },
    {
     "name": "stdout",
     "output_type": "stream",
     "text": [
      "Do you exercise regularly, 4 times per week or more?\n",
      "Exercise regularly (4+ times/week)\n"
     ]
    },
    {
     "name": "stderr",
     "output_type": "stream",
     "text": [
      " 92%|█████████▏| 822/894 [13:28<10:23,  8.66s/it]"
     ]
    },
    {
     "name": "stdout",
     "output_type": "stream",
     "text": [
      "Are you a former smoker?\n",
      "Former smoker\n"
     ]
    },
    {
     "name": "stderr",
     "output_type": "stream",
     "text": [
      " 92%|█████████▏| 823/894 [13:32<08:34,  7.25s/it]"
     ]
    },
    {
     "name": "stdout",
     "output_type": "stream",
     "text": [
      "Is your BMI less than 18.5, or are you underweight?\n",
      "BMI < 18.5 / underweight\n"
     ]
    },
    {
     "name": "stderr",
     "output_type": "stream",
     "text": [
      " 92%|█████████▏| 824/894 [13:40<08:51,  7.59s/it]"
     ]
    },
    {
     "name": "stdout",
     "output_type": "stream",
     "text": [
      "Do you have liver cirrhosis?\n",
      "Have liver cirrhosis\n"
     ]
    },
    {
     "name": "stderr",
     "output_type": "stream",
     "text": [
      " 92%|█████████▏| 825/894 [13:45<07:59,  6.94s/it]"
     ]
    },
    {
     "name": "stdout",
     "output_type": "stream",
     "text": [
      "Have you had sexual intercourse with an HIV-positive partner in the past 12 months?\n",
      "Had sexual intercourse with HIV-positive partner in the past 12 months\n"
     ]
    },
    {
     "name": "stderr",
     "output_type": "stream",
     "text": [
      " 92%|█████████▏| 826/894 [14:01<10:59,  9.70s/it]"
     ]
    },
    {
     "name": "stdout",
     "output_type": "stream",
     "text": [
      "Do you have a poor diet?\n",
      "Have a poor diet\n"
     ]
    },
    {
     "name": "stderr",
     "output_type": "stream",
     "text": [
      " 93%|█████████▎| 827/894 [14:05<08:40,  7.76s/it]"
     ]
    },
    {
     "name": "stdout",
     "output_type": "stream",
     "text": [
      "Have you ever had a diagnosis of anemia?\n",
      "Diagnosed with anemia\n"
     ]
    },
    {
     "name": "stderr",
     "output_type": "stream",
     "text": [
      " 93%|█████████▎| 828/894 [14:12<08:30,  7.73s/it]"
     ]
    },
    {
     "name": "stdout",
     "output_type": "stream",
     "text": [
      "Do you have any family members who have been diagnosed with anemia?\n",
      "Family member diagnosed with anemia\n"
     ]
    },
    {
     "name": "stderr",
     "output_type": "stream",
     "text": [
      " 93%|█████████▎| 829/894 [14:21<08:32,  7.89s/it]"
     ]
    },
    {
     "name": "stdout",
     "output_type": "stream",
     "text": [
      "Do you have chronic kidney failure?\n",
      "Chronic kidney failure\n"
     ]
    },
    {
     "name": "stderr",
     "output_type": "stream",
     "text": [
      " 93%|█████████▎| 830/894 [14:26<07:40,  7.20s/it]"
     ]
    },
    {
     "name": "stdout",
     "output_type": "stream",
     "text": [
      "Were you born prematurely or did you suffer any complication at birth?\n",
      "Born prematurely / suffer complication at birth\n"
     ]
    },
    {
     "name": "stderr",
     "output_type": "stream",
     "text": [
      " 93%|█████████▎| 831/894 [15:42<29:09, 27.77s/it]"
     ]
    },
    {
     "name": "stdout",
     "output_type": "stream",
     "text": [
      "Are there any members of your family who have been diagnosed myasthenia gravis?\n",
      "Family member diagnosed with myasthenia gravis\n"
     ]
    },
    {
     "name": "stderr",
     "output_type": "stream",
     "text": [
      " 93%|█████████▎| 832/894 [15:54<23:39, 22.89s/it]"
     ]
    },
    {
     "name": "stdout",
     "output_type": "stream",
     "text": [
      "Do you have Rheumatoid Arthritis?\n",
      "Have Rheumatoid Arthritis\n"
     ]
    },
    {
     "name": "stderr",
     "output_type": "stream",
     "text": [
      " 93%|█████████▎| 833/894 [16:02<18:49, 18.52s/it]"
     ]
    },
    {
     "name": "stdout",
     "output_type": "stream",
     "text": [
      "Have you ever been diagnosed with depression?\n",
      "Have been diagnosed with depression\n"
     ]
    },
    {
     "name": "stderr",
     "output_type": "stream",
     "text": [
      " 93%|█████████▎| 834/894 [16:10<15:29, 15.50s/it]"
     ]
    },
    {
     "name": "stdout",
     "output_type": "stream",
     "text": [
      "Have you been in contact with someone who has had pertussis (whoooping cough)?\n",
      "In contact with someone who had pertussis (whooping cough)\n"
     ]
    },
    {
     "name": "stderr",
     "output_type": "stream",
     "text": [
      " 93%|█████████▎| 835/894 [16:26<15:14, 15.51s/it]"
     ]
    },
    {
     "name": "stdout",
     "output_type": "stream",
     "text": [
      "Have you recently had a viral infection?\n",
      "Recently had viral infection\n"
     ]
    },
    {
     "name": "stderr",
     "output_type": "stream",
     "text": [
      " 94%|█████████▎| 836/894 [16:32<12:14, 12.66s/it]"
     ]
    },
    {
     "name": "stdout",
     "output_type": "stream",
     "text": [
      "Are you currently being treated or have you recently been treated with an oral antibiotic for an ear infection?\n",
      "Currently/in the past been treat with oral antibiotic for ear infection\n"
     ]
    },
    {
     "name": "stderr",
     "output_type": "stream",
     "text": [
      " 94%|█████████▎| 837/894 [16:46<12:25, 13.07s/it]"
     ]
    },
    {
     "name": "stdout",
     "output_type": "stream",
     "text": [
      "Do you have an active cancer?\n",
      "Have an active cancer\n"
     ]
    },
    {
     "name": "stderr",
     "output_type": "stream",
     "text": [
      " 94%|█████████▎| 838/894 [16:52<10:07, 10.85s/it]"
     ]
    },
    {
     "name": "stdout",
     "output_type": "stream",
     "text": [
      "Are your vaccinations up to date?\n",
      "Up to date on vaccinations\n"
     ]
    },
    {
     "name": "stderr",
     "output_type": "stream",
     "text": [
      " 94%|█████████▍| 839/894 [17:09<11:50, 12.92s/it]"
     ]
    },
    {
     "name": "stdout",
     "output_type": "stream",
     "text": [
      "Do you have a known heart defect?\n",
      "Have a known heart defect\n"
     ]
    },
    {
     "name": "stderr",
     "output_type": "stream",
     "text": [
      " 94%|█████████▍| 840/894 [17:20<11:08, 12.37s/it]"
     ]
    },
    {
     "name": "stdout",
     "output_type": "stream",
     "text": [
      "Have you been diagnosed with hyperthyroidism?\n",
      "Diagnosed with hyperthyroidism\n"
     ]
    },
    {
     "name": "stderr",
     "output_type": "stream",
     "text": [
      " 94%|█████████▍| 841/894 [17:30<10:04, 11.40s/it]"
     ]
    },
    {
     "name": "stdout",
     "output_type": "stream",
     "text": [
      "Do you have severe Chronic Obstructive Pulmonary Disease (COPD)?\n",
      "Have severe Chronic Obstructive Pulmonary Disease (COPD)\n"
     ]
    },
    {
     "name": "stderr",
     "output_type": "stream",
     "text": [
      " 94%|█████████▍| 842/894 [17:46<11:05, 12.80s/it]"
     ]
    },
    {
     "name": "stdout",
     "output_type": "stream",
     "text": [
      "Do you have a known issue with one of your heart valves?\n",
      "Known issue with heart valves\n"
     ]
    },
    {
     "name": "stderr",
     "output_type": "stream",
     "text": [
      " 94%|█████████▍| 843/894 [17:55<10:07, 11.91s/it]"
     ]
    },
    {
     "name": "stdout",
     "output_type": "stream",
     "text": [
      "Do you consume energy drinks regularly?\n",
      "Consume energy drinks regularly\n"
     ]
    },
    {
     "name": "stderr",
     "output_type": "stream",
     "text": [
      " 94%|█████████▍| 844/894 [18:02<08:31, 10.23s/it]"
     ]
    },
    {
     "name": "stdout",
     "output_type": "stream",
     "text": [
      "Do you regularly drink coffee or tea?\n",
      "Regularly drink coffee / tea\n"
     ]
    },
    {
     "name": "stderr",
     "output_type": "stream",
     "text": [
      " 95%|█████████▍| 845/894 [18:09<07:32,  9.24s/it]"
     ]
    },
    {
     "name": "stdout",
     "output_type": "stream",
     "text": [
      "Have you recently taken decongestants or other substances that may have stimulant effects?\n",
      "Recently taken decongestants or substances that have stimulant effects\n"
     ]
    },
    {
     "name": "stderr",
     "output_type": "stream",
     "text": [
      " 95%|█████████▍| 846/894 [18:25<09:12, 11.51s/it]"
     ]
    },
    {
     "name": "stdout",
     "output_type": "stream",
     "text": [
      "Do you have a known severe food allergy?\n",
      "Known sever food allergy\n"
     ]
    },
    {
     "name": "stderr",
     "output_type": "stream",
     "text": [
      " 95%|█████████▍| 847/894 [18:32<07:47,  9.94s/it]"
     ]
    },
    {
     "name": "stdout",
     "output_type": "stream",
     "text": [
      "Do you take corticosteroids?\n",
      "Take corticosteroids\n"
     ]
    },
    {
     "name": "stderr",
     "output_type": "stream",
     "text": [
      " 95%|█████████▍| 848/894 [18:39<07:04,  9.23s/it]"
     ]
    },
    {
     "name": "stdout",
     "output_type": "stream",
     "text": [
      "Have you or any member of your family ever had croup?\n",
      "You/family member had croup\n"
     ]
    },
    {
     "name": "stderr",
     "output_type": "stream",
     "text": [
      " 95%|█████████▍| 849/894 [18:48<06:41,  8.92s/it]"
     ]
    },
    {
     "name": "stdout",
     "output_type": "stream",
     "text": [
      "Do you suffer from chronic anxiety?\n",
      "Chronic anxiety\n"
     ]
    },
    {
     "name": "stderr",
     "output_type": "stream",
     "text": [
      " 95%|█████████▌| 850/894 [18:54<05:54,  8.06s/it]"
     ]
    },
    {
     "name": "stdout",
     "output_type": "stream",
     "text": [
      "Have you ever had deep vein thrombosis (DVT)?\n",
      "Had deep vein thrombosis (DVT)\n"
     ]
    },
    {
     "name": "stderr",
     "output_type": "stream",
     "text": [
      " 95%|█████████▌| 851/894 [19:05<06:26,  8.99s/it]"
     ]
    },
    {
     "name": "stdout",
     "output_type": "stream",
     "text": [
      "Have you been unable to move or get up for more than 3 consecutive days within the last 4 weeks?\n",
      "Recently unable to move/get up for 3+ consecutive days\n"
     ]
    },
    {
     "name": "stderr",
     "output_type": "stream",
     "text": [
      " 95%|█████████▌| 852/894 [19:24<08:23, 11.99s/it]"
     ]
    },
    {
     "name": "stdout",
     "output_type": "stream",
     "text": [
      "Are you of Asian descent?\n",
      "Of Asian descent\n"
     ]
    },
    {
     "name": "stderr",
     "output_type": "stream",
     "text": [
      " 95%|█████████▌| 853/894 [19:30<07:06, 10.40s/it]"
     ]
    },
    {
     "name": "stdout",
     "output_type": "stream",
     "text": [
      "Do you have cystic fibrosis?\n",
      "Cystic fibrosis\n"
     ]
    },
    {
     "name": "stderr",
     "output_type": "stream",
     "text": [
      " 96%|█████████▌| 854/894 [19:43<07:24, 11.12s/it]"
     ]
    },
    {
     "name": "stdout",
     "output_type": "stream",
     "text": [
      "Have you ever had pneumonia?\n",
      "Had pneumonia\n"
     ]
    },
    {
     "name": "stderr",
     "output_type": "stream",
     "text": [
      " 96%|█████████▌| 855/894 [19:48<06:01,  9.28s/it]"
     ]
    },
    {
     "name": "stdout",
     "output_type": "stream",
     "text": [
      "Do you have a chronic obstructive pulmonary disease (COPD)?\n",
      "Have a chronic obstructive pulmonary disease (COPD)\n"
     ]
    },
    {
     "name": "stderr",
     "output_type": "stream",
     "text": [
      " 96%|█████████▌| 856/894 [20:51<16:08, 25.48s/it]"
     ]
    },
    {
     "name": "stdout",
     "output_type": "stream",
     "text": [
      "Do you live in in a big city?\n",
      "Live in a big city\n"
     ]
    },
    {
     "name": "stderr",
     "output_type": "stream",
     "text": [
      " 96%|█████████▌| 857/894 [20:56<11:48, 19.15s/it]"
     ]
    },
    {
     "name": "stdout",
     "output_type": "stream",
     "text": [
      "Do you have any close family members who suffer from allergies (any type), hay fever or eczema?\n",
      "Close family members who suffer from allergies, hay fever / eczema\n"
     ]
    },
    {
     "name": "stderr",
     "output_type": "stream",
     "text": [
      " 96%|█████████▌| 858/894 [21:15<11:32, 19.24s/it]"
     ]
    },
    {
     "name": "stdout",
     "output_type": "stream",
     "text": [
      "Do you have any family members who have asthma?\n",
      "Family members who have asthma\n"
     ]
    },
    {
     "name": "stderr",
     "output_type": "stream",
     "text": [
      " 96%|█████████▌| 859/894 [21:22<08:59, 15.42s/it]"
     ]
    },
    {
     "name": "stdout",
     "output_type": "stream",
     "text": [
      "Did you have your first menstrual period before the age of 12?\n",
      "Had first menstrual period before 12\n"
     ]
    },
    {
     "name": "stderr",
     "output_type": "stream",
     "text": [
      " 96%|█████████▌| 860/894 [21:31<07:38, 13.47s/it]"
     ]
    },
    {
     "name": "stdout",
     "output_type": "stream",
     "text": [
      "Have you breastfed one of your children for more than 9 months?\n",
      "Breastfed for more than 9 months\n"
     ]
    },
    {
     "name": "stderr",
     "output_type": "stream",
     "text": [
      " 96%|█████████▋| 861/894 [21:43<07:08, 12.98s/it]"
     ]
    },
    {
     "name": "stdout",
     "output_type": "stream",
     "text": [
      "Have you ever been diagnosed with obstructive sleep apnea (OSA)?\n",
      "Diagnosed with obstructive sleep apnea (OSA)\n"
     ]
    },
    {
     "name": "stderr",
     "output_type": "stream",
     "text": [
      " 96%|█████████▋| 862/894 [21:55<06:51, 12.85s/it]"
     ]
    },
    {
     "name": "stdout",
     "output_type": "stream",
     "text": [
      "Do you have heart failure?\n",
      "Heart failure\n"
     ]
    },
    {
     "name": "stderr",
     "output_type": "stream",
     "text": [
      " 97%|█████████▋| 863/894 [21:59<05:16, 10.22s/it]"
     ]
    },
    {
     "name": "stdout",
     "output_type": "stream",
     "text": [
      "Were you diagnosed with endocrine disease or a hormone dysfunction?\n",
      "Diagnosed with endocrine disease / hormone dysfunction\n"
     ]
    },
    {
     "name": "stderr",
     "output_type": "stream",
     "text": [
      " 97%|█████████▋| 864/894 [22:29<08:02, 16.07s/it]"
     ]
    },
    {
     "name": "stdout",
     "output_type": "stream",
     "text": [
      "Did you eat dark-fleshed fish (such as tuna) or Swiss cheese before the reaction occurred?\n",
      "Ate dark-fleshed fish (tuna) or Swiss cheese recently\n"
     ]
    },
    {
     "name": "stderr",
     "output_type": "stream",
     "text": [
      " 97%|█████████▋| 865/894 [22:43<07:26, 15.38s/it]"
     ]
    },
    {
     "name": "stdout",
     "output_type": "stream",
     "text": [
      "Do you have chronic pancreatitis?\n",
      "Have chronic pancreatitis\n"
     ]
    },
    {
     "name": "stderr",
     "output_type": "stream",
     "text": [
      " 97%|█████████▋| 866/894 [22:48<05:48, 12.45s/it]"
     ]
    },
    {
     "name": "stdout",
     "output_type": "stream",
     "text": [
      "Have you ever been diagnosed with gastroesophageal reflux?\n",
      "Diagnosed with gastroesophageal reflux\n"
     ]
    },
    {
     "name": "stderr",
     "output_type": "stream",
     "text": [
      " 97%|█████████▋| 867/894 [23:00<05:27, 12.12s/it]"
     ]
    },
    {
     "name": "stdout",
     "output_type": "stream",
     "text": [
      "Have you ever had a spontaneous pneumothorax?\n",
      "Had spontaneous pneumothorax\n"
     ]
    },
    {
     "name": "stderr",
     "output_type": "stream",
     "text": [
      " 97%|█████████▋| 868/894 [23:12<05:19, 12.31s/it]"
     ]
    },
    {
     "name": "stdout",
     "output_type": "stream",
     "text": [
      "Are you exposed to secondhand cigarette smoke on a daily basis?\n",
      "Exposed to secondhand cigarette smoke daily\n"
     ]
    },
    {
     "name": "stderr",
     "output_type": "stream",
     "text": [
      " 97%|█████████▋| 869/894 [23:38<06:48, 16.33s/it]"
     ]
    },
    {
     "name": "stdout",
     "output_type": "stream",
     "text": [
      "Have you started or taken any antipsychotic medication within the last 7 days?\n",
      "Taken antipsychotic medication recently\n"
     ]
    },
    {
     "name": "stderr",
     "output_type": "stream",
     "text": [
      " 97%|█████████▋| 870/894 [23:52<06:11, 15.49s/it]"
     ]
    },
    {
     "name": "stdout",
     "output_type": "stream",
     "text": [
      "Have you been treated in hospital recently for nausea, agitation, intoxication or aggressive behavior and received medication via an intravenous or intramuscular route?\n",
      "Recently treated for nausea/agitation/intoxication/aggressive behavior and received intravenous/intramuscular medication\n"
     ]
    },
    {
     "name": "stderr",
     "output_type": "stream",
     "text": [
      " 97%|█████████▋| 871/894 [24:33<08:53, 23.21s/it]"
     ]
    },
    {
     "name": "stdout",
     "output_type": "stream",
     "text": [
      "Have you ever had surgery to remove lymph nodes?\n",
      "Had surgery to remove lymph nodes\n"
     ]
    },
    {
     "name": "stderr",
     "output_type": "stream",
     "text": [
      " 98%|█████████▊| 872/894 [24:42<06:56, 18.93s/it]"
     ]
    },
    {
     "name": "stdout",
     "output_type": "stream",
     "text": [
      "Do you take a calcium channel blockers (medication)?\n",
      "Take calcium channel blockers\n"
     ]
    },
    {
     "name": "stderr",
     "output_type": "stream",
     "text": [
      " 98%|█████████▊| 873/894 [24:50<05:32, 15.81s/it]"
     ]
    },
    {
     "name": "stdout",
     "output_type": "stream",
     "text": [
      "Do you have a known kidney problem resulting in an inability to retain proteins?\n",
      "Have kidney problem resulting in inability to retain proteins\n"
     ]
    },
    {
     "name": "stderr",
     "output_type": "stream",
     "text": [
      " 98%|█████████▊| 874/894 [25:04<05:00, 15.04s/it]"
     ]
    },
    {
     "name": "stdout",
     "output_type": "stream",
     "text": [
      "Have you ever had a pericarditis?\n",
      "Had pericarditis\n"
     ]
    },
    {
     "name": "stderr",
     "output_type": "stream",
     "text": [
      " 98%|█████████▊| 875/894 [25:10<03:59, 12.60s/it]"
     ]
    },
    {
     "name": "stdout",
     "output_type": "stream",
     "text": [
      "Do any members of your immediate family have a psychiatric illness?\n",
      "You/family member have psychiatric illness\n"
     ]
    },
    {
     "name": "stderr",
     "output_type": "stream",
     "text": [
      " 98%|█████████▊| 876/894 [25:30<04:24, 14.71s/it]"
     ]
    },
    {
     "name": "stdout",
     "output_type": "stream",
     "text": [
      "Do you have close family members who had a cardiovascular disease problem before the age of 50?\n",
      "Close family had cardiovascular disease before 50\n"
     ]
    },
    {
     "name": "stderr",
     "output_type": "stream",
     "text": [
      " 98%|█████████▊| 877/894 [25:42<03:56, 13.93s/it]"
     ]
    },
    {
     "name": "stdout",
     "output_type": "stream",
     "text": [
      "In the last month, have you been in contact with anyone infected with the Ebola virus?\n",
      "Recently been in contact with anyone infected with Ebola\n"
     ]
    },
    {
     "name": "stderr",
     "output_type": "stream",
     "text": [
      " 98%|█████████▊| 878/894 [26:02<04:11, 15.69s/it]"
     ]
    },
    {
     "name": "stdout",
     "output_type": "stream",
     "text": [
      "Do you suffer from fibromyalgia?\n",
      "Suffer from fibromyalgia\n"
     ]
    },
    {
     "name": "stderr",
     "output_type": "stream",
     "text": [
      " 98%|█████████▊| 879/894 [26:11<03:25, 13.73s/it]"
     ]
    },
    {
     "name": "stdout",
     "output_type": "stream",
     "text": [
      "Have you been hospitalized for an asthma attack in the past year?\n",
      "Hospitalized for asthma attack this year\n"
     ]
    },
    {
     "name": "stderr",
     "output_type": "stream",
     "text": [
      " 98%|█████████▊| 880/894 [26:26<03:15, 13.98s/it]"
     ]
    },
    {
     "name": "stdout",
     "output_type": "stream",
     "text": [
      "Have you had 2 or more asthma attacks in the past year?\n",
      "Had 2+ astham attacks in the past year\n"
     ]
    },
    {
     "name": "stderr",
     "output_type": "stream",
     "text": [
      " 99%|█████████▊| 881/894 [26:36<02:46, 12.82s/it]"
     ]
    },
    {
     "name": "stdout",
     "output_type": "stream",
     "text": [
      "Have you been diagnosed with chronic sinusitis?\n",
      "Diagnosed with chronic sinusitis\n"
     ]
    },
    {
     "name": "stderr",
     "output_type": "stream",
     "text": [
      " 99%|█████████▊| 882/894 [26:43<02:13, 11.14s/it]"
     ]
    },
    {
     "name": "stdout",
     "output_type": "stream",
     "text": [
      "Have you had one or several flare ups of chronic obstructive pulmonary disease (COPD) in the past year?\n",
      "One+ flare ups of chronics obstructive pulmonary disease (COPD) in the past year\n"
     ]
    },
    {
     "name": "stderr",
     "output_type": "stream",
     "text": [
      " 99%|█████████▉| 883/894 [26:59<02:19, 12.67s/it]"
     ]
    },
    {
     "name": "stdout",
     "output_type": "stream",
     "text": [
      "Do you work in agriculture?\n",
      "Work in agriculture\n"
     ]
    },
    {
     "name": "stderr",
     "output_type": "stream",
     "text": [
      " 99%|█████████▉| 884/894 [27:04<01:42, 10.22s/it]"
     ]
    },
    {
     "name": "stdout",
     "output_type": "stream",
     "text": [
      "Do you work in the mining sector?\n",
      "Work in the mining sector\n"
     ]
    },
    {
     "name": "stderr",
     "output_type": "stream",
     "text": [
      " 99%|█████████▉| 885/894 [27:08<01:16,  8.46s/it]"
     ]
    },
    {
     "name": "stdout",
     "output_type": "stream",
     "text": [
      "Do you work in construction?\n",
      "Work in construction\n"
     ]
    },
    {
     "name": "stderr",
     "output_type": "stream",
     "text": [
      " 99%|█████████▉| 886/894 [27:13<00:59,  7.40s/it]"
     ]
    },
    {
     "name": "stdout",
     "output_type": "stream",
     "text": [
      "Do you have a deviated nasal septum?\n",
      "Have deviated nasal septum\n"
     ]
    },
    {
     "name": "stderr",
     "output_type": "stream",
     "text": [
      " 99%|█████████▉| 887/894 [27:18<00:47,  6.80s/it]"
     ]
    },
    {
     "name": "stdout",
     "output_type": "stream",
     "text": [
      "Do you have polyps in your nose?\n",
      "Have polyps in nose\n"
     ]
    },
    {
     "name": "stderr",
     "output_type": "stream",
     "text": [
      " 99%|█████████▉| 888/894 [27:22<00:35,  5.89s/it]"
     ]
    },
    {
     "name": "stdout",
     "output_type": "stream",
     "text": [
      "Does your mother suffer from asthma?\n",
      "Mother suffers from asthma\n"
     ]
    },
    {
     "name": "stderr",
     "output_type": "stream",
     "text": [
      " 99%|█████████▉| 889/894 [27:30<00:31,  6.32s/it]"
     ]
    },
    {
     "name": "stdout",
     "output_type": "stream",
     "text": [
      "Do you live in the suburbs?\n",
      "Live in the suburbs\n"
     ]
    },
    {
     "name": "stderr",
     "output_type": "stream",
     "text": [
      "100%|█████████▉| 890/894 [27:33<00:22,  5.60s/it]"
     ]
    },
    {
     "name": "stdout",
     "output_type": "stream",
     "text": [
      "Do you live in a rural area?\n",
      "Live in a rural area\n"
     ]
    },
    {
     "name": "stderr",
     "output_type": "stream",
     "text": [
      "100%|█████████▉| 891/894 [27:36<00:14,  4.75s/it]"
     ]
    },
    {
     "name": "stdout",
     "output_type": "stream",
     "text": [
      "Do you have family members who have had lung cancer?\n",
      "Family member had lung cancer\n"
     ]
    },
    {
     "name": "stderr",
     "output_type": "stream",
     "text": [
      "100%|█████████▉| 892/894 [27:46<00:12,  6.35s/it]"
     ]
    },
    {
     "name": "stdout",
     "output_type": "stream",
     "text": [
      "Are there members of your family who have been diagnosed with pancreatic cancer?\n",
      "Family member diagnosed with pancreatic cancer\n"
     ]
    },
    {
     "name": "stderr",
     "output_type": "stream",
     "text": [
      "100%|█████████▉| 893/894 [27:58<00:08,  8.00s/it]"
     ]
    },
    {
     "name": "stdout",
     "output_type": "stream",
     "text": [
      "Have you ever had fluid in your lungs?\n",
      "Had fluid in lungs\n"
     ]
    },
    {
     "name": "stderr",
     "output_type": "stream",
     "text": [
      "100%|██████████| 894/894 [28:04<00:00,  1.88s/it]\n"
     ]
    }
   ],
   "source": [
    "for key, value in tqdm(evidence_dict.items(), position = 0, leave = True):\n",
    "  if \"short\" in list(value.keys()):\n",
    "    continue\n",
    "  print(value[\"description\"], flush = True)\n",
    "  short = input()\n",
    "  evidence_dict[key][\"short\"] = short\n",
    "  print(short, flush = True)"
   ]
  },
  {
   "cell_type": "code",
   "execution_count": null,
   "metadata": {},
   "outputs": [],
   "source": []
  }
 ],
 "metadata": {
  "kernelspec": {
   "display_name": "Python 3.10.11 ('lv')",
   "language": "python",
   "name": "python3"
  },
  "language_info": {
   "codemirror_mode": {
    "name": "ipython",
    "version": 3
   },
   "file_extension": ".py",
   "mimetype": "text/x-python",
   "name": "python",
   "nbconvert_exporter": "python",
   "pygments_lexer": "ipython3",
   "version": "3.10.11"
  },
  "orig_nbformat": 4,
  "vscode": {
   "interpreter": {
    "hash": "48356fca9c36f057f2d259c6a18ff04a3ef8857bc2f99a9a5973dc0c4d1527b3"
   }
  }
 },
 "nbformat": 4,
 "nbformat_minor": 2
}
