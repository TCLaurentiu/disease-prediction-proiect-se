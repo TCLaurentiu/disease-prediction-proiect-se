{
 "cells": [
  {
   "cell_type": "code",
   "execution_count": 35,
   "metadata": {},
   "outputs": [],
   "source": [
    "import torch\n",
    "import torch.nn as nn\n",
    "from torch.utils.data import TensorDataset, DataLoader\n",
    "\n",
    "from tqdm import tqdm, trange\n",
    "\n",
    "import torch.nn.functional as F\n",
    "\n",
    "import json"
   ]
  },
  {
   "cell_type": "code",
   "execution_count": 36,
   "metadata": {},
   "outputs": [],
   "source": [
    "with open(\"clean_dataset/diseases.json\") as file:\n",
    "  diseases = json.loads(file.read())"
   ]
  },
  {
   "cell_type": "code",
   "execution_count": 37,
   "metadata": {},
   "outputs": [],
   "source": [
    "with open(\"clean_dataset/evidences.json\") as file:\n",
    "  evidences = json.loads(file.read())"
   ]
  },
  {
   "cell_type": "code",
   "execution_count": 38,
   "metadata": {},
   "outputs": [],
   "source": [
    "class_count = len(diseases)\n",
    "feature_count = len(evidences)"
   ]
  },
  {
   "cell_type": "code",
   "execution_count": 39,
   "metadata": {},
   "outputs": [],
   "source": [
    "class ResBlock(nn.Module):\n",
    "  def __init__(self, in_features):\n",
    "    super().__init__()\n",
    "    self.in_features = in_features\n",
    "    self.net = nn.Sequential(\n",
    "      nn.Linear(in_features, in_features),\n",
    "      nn.BatchNorm1d(in_features),\n",
    "      nn.ReLU(),\n",
    "      nn.Dropout(0.3),\n",
    "      nn.Linear(in_features, in_features),\n",
    "      nn.BatchNorm1d(in_features),\n",
    "      nn.ReLU(),\n",
    "      nn.Dropout(0.3),\n",
    "      nn.Linear(in_features, in_features),\n",
    "      nn.BatchNorm1d(in_features),\n",
    "      nn.ReLU(),\n",
    "      nn.Dropout(0.3),\n",
    "      nn.Linear(in_features, in_features),\n",
    "      nn.BatchNorm1d(in_features),\n",
    "      nn.ReLU(),\n",
    "      nn.Dropout(0.3)\n",
    "    )\n",
    "  \n",
    "  def forward(self, x):\n",
    "    return x + self.net(x)"
   ]
  },
  {
   "cell_type": "code",
   "execution_count": 40,
   "metadata": {},
   "outputs": [],
   "source": [
    "device = \"cuda\" if torch.cuda.is_available() else \"cpu\""
   ]
  },
  {
   "cell_type": "code",
   "execution_count": 41,
   "metadata": {},
   "outputs": [],
   "source": [
    "model = nn.Sequential(\n",
    "  nn.Linear(feature_count, feature_count // 2),\n",
    "  nn.ReLU(),\n",
    "  ResBlock(feature_count // 2),\n",
    "  nn.Linear(feature_count // 2, feature_count // 4),\n",
    "  nn.ReLU(),\n",
    "  ResBlock(feature_count // 4),\n",
    "  nn.Linear(feature_count // 4, feature_count // 8),\n",
    "  nn.ReLU(),\n",
    "  ResBlock(feature_count // 8),\n",
    "  nn.Linear(feature_count // 8, class_count),\n",
    "  nn.ReLU(),\n",
    "  ResBlock(class_count),\n",
    "  nn.Softmax()\n",
    "  )\n"
   ]
  },
  {
   "cell_type": "code",
   "execution_count": 42,
   "metadata": {},
   "outputs": [
    {
     "data": {
      "text/plain": [
       "<All keys matched successfully>"
      ]
     },
     "execution_count": 42,
     "metadata": {},
     "output_type": "execute_result"
    }
   ],
   "source": [
    "model.load_state_dict(torch.load(\"model.pt\"))"
   ]
  },
  {
   "cell_type": "code",
   "execution_count": 43,
   "metadata": {},
   "outputs": [
    {
     "data": {
      "text/plain": [
       "Sequential(\n",
       "  (0): Linear(in_features=894, out_features=447, bias=True)\n",
       "  (1): ReLU()\n",
       "  (2): ResBlock(\n",
       "    (net): Sequential(\n",
       "      (0): Linear(in_features=447, out_features=447, bias=True)\n",
       "      (1): BatchNorm1d(447, eps=1e-05, momentum=0.1, affine=True, track_running_stats=True)\n",
       "      (2): ReLU()\n",
       "      (3): Dropout(p=0.3, inplace=False)\n",
       "      (4): Linear(in_features=447, out_features=447, bias=True)\n",
       "      (5): BatchNorm1d(447, eps=1e-05, momentum=0.1, affine=True, track_running_stats=True)\n",
       "      (6): ReLU()\n",
       "      (7): Dropout(p=0.3, inplace=False)\n",
       "      (8): Linear(in_features=447, out_features=447, bias=True)\n",
       "      (9): BatchNorm1d(447, eps=1e-05, momentum=0.1, affine=True, track_running_stats=True)\n",
       "      (10): ReLU()\n",
       "      (11): Dropout(p=0.3, inplace=False)\n",
       "      (12): Linear(in_features=447, out_features=447, bias=True)\n",
       "      (13): BatchNorm1d(447, eps=1e-05, momentum=0.1, affine=True, track_running_stats=True)\n",
       "      (14): ReLU()\n",
       "      (15): Dropout(p=0.3, inplace=False)\n",
       "    )\n",
       "  )\n",
       "  (3): Linear(in_features=447, out_features=223, bias=True)\n",
       "  (4): ReLU()\n",
       "  (5): ResBlock(\n",
       "    (net): Sequential(\n",
       "      (0): Linear(in_features=223, out_features=223, bias=True)\n",
       "      (1): BatchNorm1d(223, eps=1e-05, momentum=0.1, affine=True, track_running_stats=True)\n",
       "      (2): ReLU()\n",
       "      (3): Dropout(p=0.3, inplace=False)\n",
       "      (4): Linear(in_features=223, out_features=223, bias=True)\n",
       "      (5): BatchNorm1d(223, eps=1e-05, momentum=0.1, affine=True, track_running_stats=True)\n",
       "      (6): ReLU()\n",
       "      (7): Dropout(p=0.3, inplace=False)\n",
       "      (8): Linear(in_features=223, out_features=223, bias=True)\n",
       "      (9): BatchNorm1d(223, eps=1e-05, momentum=0.1, affine=True, track_running_stats=True)\n",
       "      (10): ReLU()\n",
       "      (11): Dropout(p=0.3, inplace=False)\n",
       "      (12): Linear(in_features=223, out_features=223, bias=True)\n",
       "      (13): BatchNorm1d(223, eps=1e-05, momentum=0.1, affine=True, track_running_stats=True)\n",
       "      (14): ReLU()\n",
       "      (15): Dropout(p=0.3, inplace=False)\n",
       "    )\n",
       "  )\n",
       "  (6): Linear(in_features=223, out_features=111, bias=True)\n",
       "  (7): ReLU()\n",
       "  (8): ResBlock(\n",
       "    (net): Sequential(\n",
       "      (0): Linear(in_features=111, out_features=111, bias=True)\n",
       "      (1): BatchNorm1d(111, eps=1e-05, momentum=0.1, affine=True, track_running_stats=True)\n",
       "      (2): ReLU()\n",
       "      (3): Dropout(p=0.3, inplace=False)\n",
       "      (4): Linear(in_features=111, out_features=111, bias=True)\n",
       "      (5): BatchNorm1d(111, eps=1e-05, momentum=0.1, affine=True, track_running_stats=True)\n",
       "      (6): ReLU()\n",
       "      (7): Dropout(p=0.3, inplace=False)\n",
       "      (8): Linear(in_features=111, out_features=111, bias=True)\n",
       "      (9): BatchNorm1d(111, eps=1e-05, momentum=0.1, affine=True, track_running_stats=True)\n",
       "      (10): ReLU()\n",
       "      (11): Dropout(p=0.3, inplace=False)\n",
       "      (12): Linear(in_features=111, out_features=111, bias=True)\n",
       "      (13): BatchNorm1d(111, eps=1e-05, momentum=0.1, affine=True, track_running_stats=True)\n",
       "      (14): ReLU()\n",
       "      (15): Dropout(p=0.3, inplace=False)\n",
       "    )\n",
       "  )\n",
       "  (9): Linear(in_features=111, out_features=49, bias=True)\n",
       "  (10): ReLU()\n",
       "  (11): ResBlock(\n",
       "    (net): Sequential(\n",
       "      (0): Linear(in_features=49, out_features=49, bias=True)\n",
       "      (1): BatchNorm1d(49, eps=1e-05, momentum=0.1, affine=True, track_running_stats=True)\n",
       "      (2): ReLU()\n",
       "      (3): Dropout(p=0.3, inplace=False)\n",
       "      (4): Linear(in_features=49, out_features=49, bias=True)\n",
       "      (5): BatchNorm1d(49, eps=1e-05, momentum=0.1, affine=True, track_running_stats=True)\n",
       "      (6): ReLU()\n",
       "      (7): Dropout(p=0.3, inplace=False)\n",
       "      (8): Linear(in_features=49, out_features=49, bias=True)\n",
       "      (9): BatchNorm1d(49, eps=1e-05, momentum=0.1, affine=True, track_running_stats=True)\n",
       "      (10): ReLU()\n",
       "      (11): Dropout(p=0.3, inplace=False)\n",
       "      (12): Linear(in_features=49, out_features=49, bias=True)\n",
       "      (13): BatchNorm1d(49, eps=1e-05, momentum=0.1, affine=True, track_running_stats=True)\n",
       "      (14): ReLU()\n",
       "      (15): Dropout(p=0.3, inplace=False)\n",
       "    )\n",
       "  )\n",
       "  (12): Softmax(dim=None)\n",
       ")"
      ]
     },
     "execution_count": 43,
     "metadata": {},
     "output_type": "execute_result"
    }
   ],
   "source": [
    "model.eval()"
   ]
  },
  {
   "cell_type": "code",
   "execution_count": 44,
   "metadata": {},
   "outputs": [
    {
     "name": "stdout",
     "output_type": "stream",
     "text": [
      "============= Diagnostic Run torch.onnx.export version 2.0.1+cu117 =============\n",
      "verbose: False, log level: Level.ERROR\n",
      "======================= 0 NONE 0 NOTE 0 WARNING 0 ERROR ========================\n",
      "\n"
     ]
    }
   ],
   "source": [
    "torch.onnx.export(model,                                # model being run\n",
    "                  torch.randn(1, feature_count),    # model input (or a tuple for multiple inputs)\n",
    "                  \"model.onnx\",           # where to save the model (can be a file or file-like object)\n",
    "                  input_names = ['input'],              # the model's input names\n",
    "                  output_names = ['output'])            # the model's output names\n"
   ]
  },
  {
   "cell_type": "code",
   "execution_count": 31,
   "metadata": {},
   "outputs": [
    {
     "data": {
      "text/plain": [
       "Sequential(\n",
       "  (0): Linear(in_features=894, out_features=447, bias=True)\n",
       "  (1): ReLU()\n",
       "  (2): ResBlock(\n",
       "    (net): Sequential(\n",
       "      (0): Linear(in_features=447, out_features=447, bias=True)\n",
       "      (1): BatchNorm1d(447, eps=1e-05, momentum=0.1, affine=True, track_running_stats=True)\n",
       "      (2): ReLU()\n",
       "      (3): Dropout(p=0.3, inplace=False)\n",
       "      (4): Linear(in_features=447, out_features=447, bias=True)\n",
       "      (5): BatchNorm1d(447, eps=1e-05, momentum=0.1, affine=True, track_running_stats=True)\n",
       "      (6): ReLU()\n",
       "      (7): Dropout(p=0.3, inplace=False)\n",
       "      (8): Linear(in_features=447, out_features=447, bias=True)\n",
       "      (9): BatchNorm1d(447, eps=1e-05, momentum=0.1, affine=True, track_running_stats=True)\n",
       "      (10): ReLU()\n",
       "      (11): Dropout(p=0.3, inplace=False)\n",
       "      (12): Linear(in_features=447, out_features=447, bias=True)\n",
       "      (13): BatchNorm1d(447, eps=1e-05, momentum=0.1, affine=True, track_running_stats=True)\n",
       "      (14): ReLU()\n",
       "      (15): Dropout(p=0.3, inplace=False)\n",
       "    )\n",
       "  )\n",
       "  (3): Linear(in_features=447, out_features=223, bias=True)\n",
       "  (4): ReLU()\n",
       "  (5): ResBlock(\n",
       "    (net): Sequential(\n",
       "      (0): Linear(in_features=223, out_features=223, bias=True)\n",
       "      (1): BatchNorm1d(223, eps=1e-05, momentum=0.1, affine=True, track_running_stats=True)\n",
       "      (2): ReLU()\n",
       "      (3): Dropout(p=0.3, inplace=False)\n",
       "      (4): Linear(in_features=223, out_features=223, bias=True)\n",
       "      (5): BatchNorm1d(223, eps=1e-05, momentum=0.1, affine=True, track_running_stats=True)\n",
       "      (6): ReLU()\n",
       "      (7): Dropout(p=0.3, inplace=False)\n",
       "      (8): Linear(in_features=223, out_features=223, bias=True)\n",
       "      (9): BatchNorm1d(223, eps=1e-05, momentum=0.1, affine=True, track_running_stats=True)\n",
       "      (10): ReLU()\n",
       "      (11): Dropout(p=0.3, inplace=False)\n",
       "      (12): Linear(in_features=223, out_features=223, bias=True)\n",
       "      (13): BatchNorm1d(223, eps=1e-05, momentum=0.1, affine=True, track_running_stats=True)\n",
       "      (14): ReLU()\n",
       "      (15): Dropout(p=0.3, inplace=False)\n",
       "    )\n",
       "  )\n",
       "  (6): Linear(in_features=223, out_features=111, bias=True)\n",
       "  (7): ReLU()\n",
       "  (8): ResBlock(\n",
       "    (net): Sequential(\n",
       "      (0): Linear(in_features=111, out_features=111, bias=True)\n",
       "      (1): BatchNorm1d(111, eps=1e-05, momentum=0.1, affine=True, track_running_stats=True)\n",
       "      (2): ReLU()\n",
       "      (3): Dropout(p=0.3, inplace=False)\n",
       "      (4): Linear(in_features=111, out_features=111, bias=True)\n",
       "      (5): BatchNorm1d(111, eps=1e-05, momentum=0.1, affine=True, track_running_stats=True)\n",
       "      (6): ReLU()\n",
       "      (7): Dropout(p=0.3, inplace=False)\n",
       "      (8): Linear(in_features=111, out_features=111, bias=True)\n",
       "      (9): BatchNorm1d(111, eps=1e-05, momentum=0.1, affine=True, track_running_stats=True)\n",
       "      (10): ReLU()\n",
       "      (11): Dropout(p=0.3, inplace=False)\n",
       "      (12): Linear(in_features=111, out_features=111, bias=True)\n",
       "      (13): BatchNorm1d(111, eps=1e-05, momentum=0.1, affine=True, track_running_stats=True)\n",
       "      (14): ReLU()\n",
       "      (15): Dropout(p=0.3, inplace=False)\n",
       "    )\n",
       "  )\n",
       "  (9): Linear(in_features=111, out_features=49, bias=True)\n",
       "  (10): ReLU()\n",
       "  (11): ResBlock(\n",
       "    (net): Sequential(\n",
       "      (0): Linear(in_features=49, out_features=49, bias=True)\n",
       "      (1): BatchNorm1d(49, eps=1e-05, momentum=0.1, affine=True, track_running_stats=True)\n",
       "      (2): ReLU()\n",
       "      (3): Dropout(p=0.3, inplace=False)\n",
       "      (4): Linear(in_features=49, out_features=49, bias=True)\n",
       "      (5): BatchNorm1d(49, eps=1e-05, momentum=0.1, affine=True, track_running_stats=True)\n",
       "      (6): ReLU()\n",
       "      (7): Dropout(p=0.3, inplace=False)\n",
       "      (8): Linear(in_features=49, out_features=49, bias=True)\n",
       "      (9): BatchNorm1d(49, eps=1e-05, momentum=0.1, affine=True, track_running_stats=True)\n",
       "      (10): ReLU()\n",
       "      (11): Dropout(p=0.3, inplace=False)\n",
       "      (12): Linear(in_features=49, out_features=49, bias=True)\n",
       "      (13): BatchNorm1d(49, eps=1e-05, momentum=0.1, affine=True, track_running_stats=True)\n",
       "      (14): ReLU()\n",
       "      (15): Dropout(p=0.3, inplace=False)\n",
       "    )\n",
       "  )\n",
       "  (12): Softmax(dim=None)\n",
       ")"
      ]
     },
     "execution_count": 31,
     "metadata": {},
     "output_type": "execute_result"
    }
   ],
   "source": [
    "model.eval()"
   ]
  },
  {
   "cell_type": "code",
   "execution_count": 32,
   "metadata": {},
   "outputs": [],
   "source": [
    "input = torch.zeros(1, feature_count)\n",
    "tobe_active = [580, 838, 834, 574, 581, 812, 796, 809,   7,   3]\n",
    "\n",
    "for elem in tobe_active:\n",
    "  input[0][tobe_active] = 1"
   ]
  },
  {
   "cell_type": "code",
   "execution_count": 33,
   "metadata": {},
   "outputs": [
    {
     "data": {
      "text/plain": [
       "torch.Size([1, 894])"
      ]
     },
     "execution_count": 33,
     "metadata": {},
     "output_type": "execute_result"
    }
   ],
   "source": [
    "input.shape"
   ]
  },
  {
   "cell_type": "code",
   "execution_count": 34,
   "metadata": {},
   "outputs": [
    {
     "name": "stderr",
     "output_type": "stream",
     "text": [
      "c:\\Users\\Claudiu\\miniconda3\\envs\\lv\\lib\\site-packages\\torch\\nn\\modules\\container.py:217: UserWarning: Implicit dimension choice for softmax has been deprecated. Change the call to include dim=X as an argument.\n",
      "  input = module(input)\n"
     ]
    },
    {
     "data": {
      "text/plain": [
       "tensor(10)"
      ]
     },
     "execution_count": 34,
     "metadata": {},
     "output_type": "execute_result"
    }
   ],
   "source": [
    "torch.argmax(model(input))"
   ]
  }
 ],
 "metadata": {
  "kernelspec": {
   "display_name": "Python 3.10.11 ('lv')",
   "language": "python",
   "name": "python3"
  },
  "language_info": {
   "codemirror_mode": {
    "name": "ipython",
    "version": 3
   },
   "file_extension": ".py",
   "mimetype": "text/x-python",
   "name": "python",
   "nbconvert_exporter": "python",
   "pygments_lexer": "ipython3",
   "version": "3.10.11"
  },
  "orig_nbformat": 4,
  "vscode": {
   "interpreter": {
    "hash": "48356fca9c36f057f2d259c6a18ff04a3ef8857bc2f99a9a5973dc0c4d1527b3"
   }
  }
 },
 "nbformat": 4,
 "nbformat_minor": 2
}
