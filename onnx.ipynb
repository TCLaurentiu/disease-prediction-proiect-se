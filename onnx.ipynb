{
 "cells": [
  {
   "cell_type": "code",
   "execution_count": 2,
   "metadata": {},
   "outputs": [],
   "source": [
    "import onnx"
   ]
  },
  {
   "cell_type": "code",
   "execution_count": 8,
   "metadata": {},
   "outputs": [],
   "source": [
    "\n",
    "onnx_model = onnx.load(\"model.onnx\")\n",
    "onnx.checker.check_model(onnx_model)\n"
   ]
  },
  {
   "cell_type": "code",
   "execution_count": 13,
   "metadata": {},
   "outputs": [],
   "source": [
    "import onnxruntime as ort\n",
    "import numpy as np\n",
    "\n",
    "ort_sess = ort.InferenceSession('model.onnx')\n",
    "x = np.zeros((1, 894), dtype = np.single)\n",
    "outputs = ort_sess.run(None, {'input': x})\n"
   ]
  },
  {
   "cell_type": "code",
   "execution_count": 14,
   "metadata": {},
   "outputs": [
    {
     "data": {
      "text/plain": [
       "[array([[1.3800785e-04, 3.5800779e-04, 1.9040832e-04, 1.3800785e-04,\n",
       "         1.3800785e-04, 4.0819074e-04, 1.5182255e-04, 1.3800785e-04,\n",
       "         1.3800785e-04, 5.8189902e-04, 2.4621584e-03, 1.3800785e-04,\n",
       "         1.3800785e-04, 6.5372465e-03, 1.3800785e-04, 1.6109690e-04,\n",
       "         1.3902536e-02, 7.1802363e-03, 1.2086643e-03, 1.6156232e-04,\n",
       "         1.3800785e-04, 8.1160618e-04, 1.0575346e-03, 4.1520982e-03,\n",
       "         1.6063255e-01, 1.7626979e-04, 1.6837404e-04, 7.4927175e-01,\n",
       "         1.3800785e-04, 2.1286806e-04, 2.5476242e-04, 1.3800785e-04,\n",
       "         1.6858854e-04, 3.4788556e-02, 1.3800785e-04, 1.4511385e-04,\n",
       "         1.3800785e-04, 1.3800785e-04, 1.3800785e-04, 1.3800785e-04,\n",
       "         4.5129325e-04, 1.8073220e-04, 1.3800785e-04, 1.1071707e-02,\n",
       "         2.5237963e-04, 1.3800785e-04, 1.3800785e-04, 1.3800785e-04,\n",
       "         1.3993752e-04]], dtype=float32)]"
      ]
     },
     "execution_count": 14,
     "metadata": {},
     "output_type": "execute_result"
    }
   ],
   "source": [
    "outputs"
   ]
  },
  {
   "cell_type": "code",
   "execution_count": null,
   "metadata": {},
   "outputs": [],
   "source": []
  }
 ],
 "metadata": {
  "kernelspec": {
   "display_name": "lv",
   "language": "python",
   "name": "python3"
  },
  "language_info": {
   "codemirror_mode": {
    "name": "ipython",
    "version": 3
   },
   "file_extension": ".py",
   "mimetype": "text/x-python",
   "name": "python",
   "nbconvert_exporter": "python",
   "pygments_lexer": "ipython3",
   "version": "3.10.11"
  }
 },
 "nbformat": 4,
 "nbformat_minor": 2
}
